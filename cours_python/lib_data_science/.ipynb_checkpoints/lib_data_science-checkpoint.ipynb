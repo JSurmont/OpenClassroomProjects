{
 "cells": [
  {
   "cell_type": "markdown",
   "id": "ebcd12ef",
   "metadata": {},
   "source": [
    "# NumPy\n",
    "## Arrays\n",
    "### Qu'est-ce qu'un array ?\n",
    "\n",
    "Array = tableau NumPy => liste homogéne, qui ne peut contenir qu'un seul type de donnée.\n",
    "\n",
    "NumPy dnne accés à des fonctions analytiques.\n",
    "\n",
    "L'homogénéité des arrays permet de gagner en mémoire et en performance sur les opéraitons.\n",
    "\n",
    "documentation NumPy : https://docs.scipy.org/doc/numpy-1.13.0/reference/ufuncs.html"
   ]
  },
  {
   "cell_type": "code",
   "execution_count": 5,
   "id": "47c08f93",
   "metadata": {},
   "outputs": [
    {
     "name": "stdout",
     "output_type": "stream",
     "text": [
      "Requirement already satisfied: numpy in c:\\python311\\lib\\site-packages (1.24.3)\n"
     ]
    }
   ],
   "source": [
    "!pip install numpy"
   ]
  },
  {
   "cell_type": "code",
   "execution_count": 10,
   "id": "ddc0f2fb",
   "metadata": {},
   "outputs": [
    {
     "name": "stdout",
     "output_type": "stream",
     "text": [
      "La moyenne:  2134.4\n",
      "La valeur absolue:  [2 1 1 2]\n",
      "Exponentielle:  [0.13533528 0.36787944 2.71828183 7.3890561 ]\n",
      "Logarithme:  [0.69314718 0.         0.         0.69314718]\n"
     ]
    }
   ],
   "source": [
    "import numpy as np\n",
    "\n",
    "revenus = [1800, 1500, 2200, 3000, 2172]\n",
    "print(\"La moyenne: \", np.mean(revenus))\n",
    "\n",
    "x = [-2, -1, 1, 2]\n",
    "print(\"La valeur absolue: \", np.abs(x))\n",
    "print(\"Exponentielle: \", np.exp(x))\n",
    "print(\"Logarithme: \", np.log(np.abs(x)))"
   ]
  },
  {
   "cell_type": "markdown",
   "id": "25953d69",
   "metadata": {},
   "source": [
    "### Création d'un array\n",
    "Peu être généré à partir d'une liste Python classique :"
   ]
  },
  {
   "cell_type": "code",
   "execution_count": 11,
   "id": "4c4642a6",
   "metadata": {},
   "outputs": [
    {
     "data": {
      "text/plain": [
       "array([1800, 1500, 2200, 3000, 2172])"
      ]
     },
     "execution_count": 11,
     "metadata": {},
     "output_type": "execute_result"
    }
   ],
   "source": [
    "revenus_array = np.array(revenus)\n",
    "revenus_array"
   ]
  },
  {
   "cell_type": "markdown",
   "id": "7bc8d5b3",
   "metadata": {},
   "source": [
    "Si dans la liste de départ il y a des données de types différents, NumPy essaiera de tous les convertir au type le plus général.<br>\n",
    "Par exemple, si un tableau contient des entiers (  int  ) et des nombres décimaux (float ), tous ses éléments seront convertis en nombres décimaux (float )."
   ]
  },
  {
   "cell_type": "markdown",
   "id": "70679036",
   "metadata": {},
   "source": [
    "Il existe également des fonctions NumPy permettant de créer des arrays selon un certain pattern ou une spécification particulière. Les plus couramment utilisées sont :\n",
    "- np.zeros(n): permet de créer un array rempli de 0, de n éléments ;\n",
    "- np.ones(n) : similaire en tous points à la fonction présentée ci-dessus, à la différence que l’array sera rempli cette fois-ci de 1 ;\n",
    "- np.arange(i, j, p)  : permet de créer un array rempli avec une séquence linéaire, qui ira de  i  à  j, par pas de  p  ;\n",
    "- np.linspace(i, j, n) : permet de créer un array de  n  valeurs espacées uniformément entre  i  et  j."
   ]
  },
  {
   "cell_type": "markdown",
   "id": "95a136b8",
   "metadata": {},
   "source": [
    "Il est possible d'obtenir le type d'un array via la méthode <b>.dtype</b>.<br>\n",
    "Les types en NumPy seront toujours présentés via deux informations : le type (i.e: int) et la précision (i.e: 32) qui est le nombre de bits sur lesquels sont codés les nombres.<br>\n",
    "Plus d'informations sur les types NumPy disponibles sur la page : https://numpy.org/doc/stable/user/basics.types.html"
   ]
  },
  {
   "cell_type": "code",
   "execution_count": null,
   "id": "ddbd503a",
   "metadata": {},
   "outputs": [],
   "source": []
  }
 ],
 "metadata": {
  "kernelspec": {
   "display_name": "Python 3 (ipykernel)",
   "language": "python",
   "name": "python3"
  },
  "language_info": {
   "codemirror_mode": {
    "name": "ipython",
    "version": 3
   },
   "file_extension": ".py",
   "mimetype": "text/x-python",
   "name": "python",
   "nbconvert_exporter": "python",
   "pygments_lexer": "ipython3",
   "version": "3.11.1"
  }
 },
 "nbformat": 4,
 "nbformat_minor": 5
}
