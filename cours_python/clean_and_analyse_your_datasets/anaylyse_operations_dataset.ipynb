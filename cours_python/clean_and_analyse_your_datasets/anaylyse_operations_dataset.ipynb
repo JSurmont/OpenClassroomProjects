{
 "cells": [
  {
   "cell_type": "code",
   "execution_count": 51,
   "metadata": {},
   "outputs": [
    {
     "name": "stdout",
     "output_type": "stream",
     "text": [
      "Requirement already satisfied: scipy in c:\\python311\\lib\\site-packages (1.11.3)\n",
      "Requirement already satisfied: numpy<1.28.0,>=1.21.6 in c:\\python311\\lib\\site-packages (from scipy) (1.24.3)\n",
      "Note: you may need to restart the kernel to use updated packages.\n",
      "Collecting statsmodels\n",
      "  Downloading statsmodels-0.14.0-cp311-cp311-win_amd64.whl (9.2 MB)\n",
      "     ---------------------------------------- 0.0/9.2 MB ? eta -:--:--\n",
      "     ---------------------------------------- 0.0/9.2 MB 660.6 kB/s eta 0:00:14\n",
      "     - -------------------------------------- 0.3/9.2 MB 3.3 MB/s eta 0:00:03\n",
      "     --- ------------------------------------ 0.7/9.2 MB 5.5 MB/s eta 0:00:02\n",
      "     --- ------------------------------------ 0.7/9.2 MB 5.5 MB/s eta 0:00:02\n",
      "     --- ------------------------------------ 0.7/9.2 MB 5.5 MB/s eta 0:00:02\n",
      "     --- ------------------------------------ 0.7/9.2 MB 5.5 MB/s eta 0:00:02\n",
      "     --- ------------------------------------ 0.7/9.2 MB 5.5 MB/s eta 0:00:02\n",
      "     --- ------------------------------------ 0.7/9.2 MB 5.5 MB/s eta 0:00:02\n",
      "     --- ------------------------------------ 0.7/9.2 MB 5.5 MB/s eta 0:00:02\n",
      "     --- ------------------------------------ 0.9/9.2 MB 2.0 MB/s eta 0:00:05\n",
      "     ----- ---------------------------------- 1.3/9.2 MB 2.8 MB/s eta 0:00:03\n",
      "     ----- ---------------------------------- 1.3/9.2 MB 2.8 MB/s eta 0:00:03\n",
      "     ----- ---------------------------------- 1.3/9.2 MB 2.8 MB/s eta 0:00:03\n",
      "     ----- ---------------------------------- 1.3/9.2 MB 2.8 MB/s eta 0:00:03\n",
      "     ----- ---------------------------------- 1.3/9.2 MB 2.8 MB/s eta 0:00:03\n",
      "     ----- ---------------------------------- 1.3/9.2 MB 2.8 MB/s eta 0:00:03\n",
      "     ----- ---------------------------------- 1.3/9.2 MB 2.8 MB/s eta 0:00:03\n",
      "     ------- -------------------------------- 1.7/9.2 MB 2.2 MB/s eta 0:00:04\n",
      "     -------- ------------------------------- 1.9/9.2 MB 2.4 MB/s eta 0:00:04\n",
      "     -------- ------------------------------- 1.9/9.2 MB 2.4 MB/s eta 0:00:04\n",
      "     -------- ------------------------------- 1.9/9.2 MB 2.4 MB/s eta 0:00:04\n",
      "     -------- ------------------------------- 1.9/9.2 MB 2.4 MB/s eta 0:00:04\n",
      "     -------- ------------------------------- 1.9/9.2 MB 2.4 MB/s eta 0:00:04\n",
      "     -------- ------------------------------- 1.9/9.2 MB 2.4 MB/s eta 0:00:04\n",
      "     -------- ------------------------------- 2.0/9.2 MB 1.9 MB/s eta 0:00:04\n",
      "     ---------- ----------------------------- 2.4/9.2 MB 2.1 MB/s eta 0:00:04\n",
      "     ----------- ---------------------------- 2.6/9.2 MB 2.2 MB/s eta 0:00:03\n",
      "     ------------ --------------------------- 2.9/9.2 MB 2.4 MB/s eta 0:00:03\n",
      "     ------------ --------------------------- 2.9/9.2 MB 2.4 MB/s eta 0:00:03\n",
      "     ------------ --------------------------- 2.9/9.2 MB 2.4 MB/s eta 0:00:03\n",
      "     ------------ --------------------------- 2.9/9.2 MB 2.4 MB/s eta 0:00:03\n",
      "     ------------ --------------------------- 2.9/9.2 MB 2.4 MB/s eta 0:00:03\n",
      "     ------------ --------------------------- 2.9/9.2 MB 2.4 MB/s eta 0:00:03\n",
      "     ------------ --------------------------- 2.9/9.2 MB 2.0 MB/s eta 0:00:04\n",
      "     ------------- -------------------------- 3.1/9.2 MB 2.1 MB/s eta 0:00:03\n",
      "     -------------- ------------------------- 3.4/9.2 MB 2.2 MB/s eta 0:00:03\n",
      "     --------------- ------------------------ 3.5/9.2 MB 2.2 MB/s eta 0:00:03\n",
      "     --------------- ------------------------ 3.5/9.2 MB 2.2 MB/s eta 0:00:03\n",
      "     --------------- ------------------------ 3.5/9.2 MB 2.2 MB/s eta 0:00:03\n",
      "     --------------- ------------------------ 3.5/9.2 MB 2.2 MB/s eta 0:00:03\n",
      "     --------------- ------------------------ 3.5/9.2 MB 2.2 MB/s eta 0:00:03\n",
      "     --------------- ------------------------ 3.5/9.2 MB 2.2 MB/s eta 0:00:03\n",
      "     --------------- ------------------------ 3.6/9.2 MB 1.9 MB/s eta 0:00:03\n",
      "     ---------------- ----------------------- 3.7/9.2 MB 1.9 MB/s eta 0:00:03\n",
      "     ---------------- ----------------------- 3.9/9.2 MB 2.0 MB/s eta 0:00:03\n",
      "     ----------------- ---------------------- 4.1/9.2 MB 2.1 MB/s eta 0:00:03\n",
      "     ------------------ --------------------- 4.3/9.2 MB 2.1 MB/s eta 0:00:03\n",
      "     ------------------ --------------------- 4.3/9.2 MB 2.1 MB/s eta 0:00:03\n",
      "     ------------------ --------------------- 4.3/9.2 MB 2.1 MB/s eta 0:00:03\n",
      "     ------------------ --------------------- 4.3/9.2 MB 2.1 MB/s eta 0:00:03\n",
      "     ------------------ --------------------- 4.3/9.2 MB 2.1 MB/s eta 0:00:03\n",
      "     ------------------ --------------------- 4.3/9.2 MB 2.1 MB/s eta 0:00:03\n",
      "     ------------------ --------------------- 4.3/9.2 MB 2.1 MB/s eta 0:00:03\n",
      "     ------------------- -------------------- 4.5/9.2 MB 1.9 MB/s eta 0:00:03\n",
      "     -------------------- ------------------- 4.7/9.2 MB 2.0 MB/s eta 0:00:03\n",
      "     --------------------- ------------------ 4.9/9.2 MB 2.0 MB/s eta 0:00:03\n",
      "     --------------------- ------------------ 4.9/9.2 MB 2.1 MB/s eta 0:00:03\n",
      "     --------------------- ------------------ 4.9/9.2 MB 2.1 MB/s eta 0:00:03\n",
      "     --------------------- ------------------ 4.9/9.2 MB 2.1 MB/s eta 0:00:03\n",
      "     --------------------- ------------------ 4.9/9.2 MB 2.1 MB/s eta 0:00:03\n",
      "     --------------------- ------------------ 4.9/9.2 MB 2.1 MB/s eta 0:00:03\n",
      "     --------------------- ------------------ 4.9/9.2 MB 2.1 MB/s eta 0:00:03\n",
      "     --------------------- ------------------ 5.0/9.2 MB 1.9 MB/s eta 0:00:03\n",
      "     ---------------------- ----------------- 5.3/9.2 MB 1.9 MB/s eta 0:00:03\n",
      "     ----------------------- ---------------- 5.3/9.2 MB 1.9 MB/s eta 0:00:03\n",
      "     ----------------------- ---------------- 5.3/9.2 MB 1.9 MB/s eta 0:00:03\n",
      "     ----------------------- ---------------- 5.3/9.2 MB 1.9 MB/s eta 0:00:03\n",
      "     ------------------------ --------------- 5.5/9.2 MB 1.9 MB/s eta 0:00:02\n",
      "     ------------------------ --------------- 5.7/9.2 MB 1.9 MB/s eta 0:00:02\n",
      "     ------------------------ --------------- 5.7/9.2 MB 1.9 MB/s eta 0:00:02\n",
      "     ------------------------- -------------- 5.9/9.2 MB 1.9 MB/s eta 0:00:02\n",
      "     -------------------------- ------------- 6.1/9.2 MB 2.0 MB/s eta 0:00:02\n",
      "     -------------------------- ------------- 6.1/9.2 MB 2.0 MB/s eta 0:00:02\n",
      "     --------------------------- ------------ 6.3/9.2 MB 2.0 MB/s eta 0:00:02\n",
      "     --------------------------- ------------ 6.3/9.2 MB 2.0 MB/s eta 0:00:02\n",
      "     --------------------------- ------------ 6.3/9.2 MB 2.0 MB/s eta 0:00:02\n",
      "     --------------------------- ------------ 6.3/9.2 MB 2.0 MB/s eta 0:00:02\n",
      "     --------------------------- ------------ 6.3/9.2 MB 2.0 MB/s eta 0:00:02\n",
      "     --------------------------- ------------ 6.3/9.2 MB 2.0 MB/s eta 0:00:02\n",
      "     --------------------------- ------------ 6.3/9.2 MB 2.0 MB/s eta 0:00:02\n",
      "     ---------------------------- ----------- 6.5/9.2 MB 1.9 MB/s eta 0:00:02\n",
      "     ---------------------------- ----------- 6.7/9.2 MB 1.9 MB/s eta 0:00:02\n",
      "     ----------------------------- ---------- 6.9/9.2 MB 1.9 MB/s eta 0:00:02\n",
      "     ------------------------------ --------- 6.9/9.2 MB 1.9 MB/s eta 0:00:02\n",
      "     ------------------------------ --------- 7.0/9.2 MB 1.9 MB/s eta 0:00:02\n",
      "     ------------------------------ --------- 7.0/9.2 MB 1.9 MB/s eta 0:00:02\n",
      "     ------------------------------- -------- 7.1/9.2 MB 1.9 MB/s eta 0:00:02\n",
      "     ------------------------------- -------- 7.1/9.2 MB 1.9 MB/s eta 0:00:02\n",
      "     ------------------------------- -------- 7.1/9.2 MB 1.9 MB/s eta 0:00:02\n",
      "     ------------------------------- -------- 7.1/9.2 MB 1.9 MB/s eta 0:00:02\n",
      "     ------------------------------- -------- 7.1/9.2 MB 1.9 MB/s eta 0:00:02\n",
      "     ------------------------------- -------- 7.1/9.2 MB 1.9 MB/s eta 0:00:02\n",
      "     ------------------------------- -------- 7.2/9.2 MB 1.8 MB/s eta 0:00:02\n",
      "     -------------------------------- ------- 7.4/9.2 MB 1.8 MB/s eta 0:00:01\n",
      "     -------------------------------- ------- 7.6/9.2 MB 1.9 MB/s eta 0:00:01\n",
      "     ---------------------------------- ----- 7.8/9.2 MB 1.9 MB/s eta 0:00:01\n",
      "     ---------------------------------- ----- 7.9/9.2 MB 1.9 MB/s eta 0:00:01\n",
      "     ---------------------------------- ----- 7.9/9.2 MB 1.9 MB/s eta 0:00:01\n",
      "     ---------------------------------- ----- 7.9/9.2 MB 1.9 MB/s eta 0:00:01\n",
      "     ---------------------------------- ----- 7.9/9.2 MB 1.9 MB/s eta 0:00:01\n",
      "     ---------------------------------- ----- 7.9/9.2 MB 1.9 MB/s eta 0:00:01\n",
      "     ---------------------------------- ----- 7.9/9.2 MB 1.9 MB/s eta 0:00:01\n",
      "     ---------------------------------- ----- 8.0/9.2 MB 1.8 MB/s eta 0:00:01\n",
      "     ----------------------------------- ---- 8.2/9.2 MB 1.8 MB/s eta 0:00:01\n",
      "     ------------------------------------ --- 8.4/9.2 MB 1.9 MB/s eta 0:00:01\n",
      "     ------------------------------------- -- 8.6/9.2 MB 1.9 MB/s eta 0:00:01\n",
      "     -------------------------------------- - 8.8/9.2 MB 1.9 MB/s eta 0:00:01\n",
      "     ---------------------------------------  9.0/9.2 MB 1.9 MB/s eta 0:00:01\n",
      "     ---------------------------------------  9.1/9.2 MB 2.0 MB/s eta 0:00:01\n",
      "     ---------------------------------------  9.1/9.2 MB 2.0 MB/s eta 0:00:01\n",
      "     ---------------------------------------  9.1/9.2 MB 2.0 MB/s eta 0:00:01\n",
      "     ---------------------------------------  9.1/9.2 MB 2.0 MB/s eta 0:00:01\n",
      "     ---------------------------------------  9.1/9.2 MB 2.0 MB/s eta 0:00:01\n",
      "     ---------------------------------------  9.1/9.2 MB 2.0 MB/s eta 0:00:01\n",
      "     ---------------------------------------- 9.2/9.2 MB 1.9 MB/s eta 0:00:00\n",
      "Requirement already satisfied: numpy>=1.18 in c:\\python311\\lib\\site-packages (from statsmodels) (1.24.3)\n",
      "Requirement already satisfied: scipy!=1.9.2,>=1.4 in c:\\python311\\lib\\site-packages (from statsmodels) (1.11.3)\n",
      "Requirement already satisfied: pandas>=1.0 in c:\\python311\\lib\\site-packages (from statsmodels) (2.0.2)\n",
      "Collecting patsy>=0.5.2 (from statsmodels)\n",
      "  Downloading patsy-0.5.3-py2.py3-none-any.whl (233 kB)\n",
      "     ---------------------------------------- 0.0/233.8 kB ? eta -:--:--\n",
      "     ------------------------------------ - 225.3/233.8 kB 4.6 MB/s eta 0:00:01\n",
      "     -------------------------------------- 233.8/233.8 kB 4.8 MB/s eta 0:00:00\n",
      "Requirement already satisfied: packaging>=21.3 in c:\\users\\jsu23003\\appdata\\roaming\\python\\python311\\site-packages (from statsmodels) (23.0)\n",
      "Requirement already satisfied: python-dateutil>=2.8.2 in c:\\users\\jsu23003\\appdata\\roaming\\python\\python311\\site-packages (from pandas>=1.0->statsmodels) (2.8.2)\n",
      "Requirement already satisfied: pytz>=2020.1 in c:\\python311\\lib\\site-packages (from pandas>=1.0->statsmodels) (2023.3)\n",
      "Requirement already satisfied: tzdata>=2022.1 in c:\\python311\\lib\\site-packages (from pandas>=1.0->statsmodels) (2023.3)\n",
      "Requirement already satisfied: six in c:\\users\\jsu23003\\appdata\\roaming\\python\\python311\\site-packages (from patsy>=0.5.2->statsmodels) (1.16.0)\n",
      "Installing collected packages: patsy, statsmodels\n",
      "Successfully installed patsy-0.5.3 statsmodels-0.14.0\n",
      "Note: you may need to restart the kernel to use updated packages.\n"
     ]
    }
   ],
   "source": [
    "%pip install scipy\n",
    "%pip install statsmodels"
   ]
  },
  {
   "cell_type": "code",
   "execution_count": 52,
   "metadata": {},
   "outputs": [],
   "source": [
    "import pandas as pd\n",
    "import numpy as np\n",
    "import matplotlib.pyplot as plt\n",
    "import seaborn as sns\n",
    "import datetime as dt\n",
    "import scipy.stats as st\n",
    "import statsmodels.api as sm"
   ]
  },
  {
   "cell_type": "markdown",
   "metadata": {},
   "source": [
    "# P2C3 - Néttoyer votre jeu de données"
   ]
  },
  {
   "cell_type": "markdown",
   "metadata": {},
   "source": [
    "## Erreur de type"
   ]
  },
  {
   "cell_type": "code",
   "execution_count": 3,
   "metadata": {},
   "outputs": [
    {
     "data": {
      "text/html": [
       "<div>\n",
       "<style scoped>\n",
       "    .dataframe tbody tr th:only-of-type {\n",
       "        vertical-align: middle;\n",
       "    }\n",
       "\n",
       "    .dataframe tbody tr th {\n",
       "        vertical-align: top;\n",
       "    }\n",
       "\n",
       "    .dataframe thead th {\n",
       "        text-align: right;\n",
       "    }\n",
       "</style>\n",
       "<table border=\"1\" class=\"dataframe\">\n",
       "  <thead>\n",
       "    <tr style=\"text-align: right;\">\n",
       "      <th></th>\n",
       "      <th>date_operation</th>\n",
       "      <th>libelle</th>\n",
       "      <th>montant</th>\n",
       "      <th>solde_avt_ope</th>\n",
       "      <th>categ</th>\n",
       "    </tr>\n",
       "  </thead>\n",
       "  <tbody>\n",
       "    <tr>\n",
       "      <th>0</th>\n",
       "      <td>2023-03-31</td>\n",
       "      <td>DON XX XX XX XX XX XX XX</td>\n",
       "      <td>-1.44</td>\n",
       "      <td>1515.25</td>\n",
       "      <td>AUTRE</td>\n",
       "    </tr>\n",
       "    <tr>\n",
       "      <th>1</th>\n",
       "      <td>2023-04-03</td>\n",
       "      <td>CARTE XX XX RAPT XX</td>\n",
       "      <td>-24.00</td>\n",
       "      <td>1513.81</td>\n",
       "      <td>TRANSPORT</td>\n",
       "    </tr>\n",
       "    <tr>\n",
       "      <th>2</th>\n",
       "      <td>2023-04-03</td>\n",
       "      <td>CARTE XX XX RAPT XX</td>\n",
       "      <td>-73.00</td>\n",
       "      <td>1489.81</td>\n",
       "      <td>TRANSPORT</td>\n",
       "    </tr>\n",
       "    <tr>\n",
       "      <th>3</th>\n",
       "      <td>2023-04-03</td>\n",
       "      <td>VIREMENT XX XX XX XX XX XX XX XX XX XX XX XX</td>\n",
       "      <td>676.00</td>\n",
       "      <td>1416.81</td>\n",
       "      <td>AUTRE</td>\n",
       "    </tr>\n",
       "    <tr>\n",
       "      <th>4</th>\n",
       "      <td>2023-04-03</td>\n",
       "      <td>VIREMENT XX XX XX XX XX XX</td>\n",
       "      <td>4.80</td>\n",
       "      <td>2092.81</td>\n",
       "      <td>AUTRE</td>\n",
       "    </tr>\n",
       "    <tr>\n",
       "      <th>...</th>\n",
       "      <td>...</td>\n",
       "      <td>...</td>\n",
       "      <td>...</td>\n",
       "      <td>...</td>\n",
       "      <td>...</td>\n",
       "    </tr>\n",
       "    <tr>\n",
       "      <th>304</th>\n",
       "      <td>2023-10-05</td>\n",
       "      <td>CARTE XX XX XX XX XX XX</td>\n",
       "      <td>-10.64</td>\n",
       "      <td>2440.94</td>\n",
       "      <td>AUTRE</td>\n",
       "    </tr>\n",
       "    <tr>\n",
       "      <th>305</th>\n",
       "      <td>2023-10-05</td>\n",
       "      <td>CARTE XX XX XX XX</td>\n",
       "      <td>-4.80</td>\n",
       "      <td>2430.30</td>\n",
       "      <td>AUTRE</td>\n",
       "    </tr>\n",
       "    <tr>\n",
       "      <th>306</th>\n",
       "      <td>2023-10-06</td>\n",
       "      <td>FORFAIT COMPTE SUPERBANK XX XX XX XX</td>\n",
       "      <td>-1.92</td>\n",
       "      <td>2425.50</td>\n",
       "      <td>COTISATION BANCAIRE</td>\n",
       "    </tr>\n",
       "    <tr>\n",
       "      <th>307</th>\n",
       "      <td>2023-10-06</td>\n",
       "      <td>CARTE XX XX CHEZ LUC XX</td>\n",
       "      <td>-10.00</td>\n",
       "      <td>2423.58</td>\n",
       "      <td>RESTAURANT</td>\n",
       "    </tr>\n",
       "    <tr>\n",
       "      <th>308</th>\n",
       "      <td>2023-10-06</td>\n",
       "      <td>PRELEVEMENT XX TELEPHONE XX XX</td>\n",
       "      <td>-13.58</td>\n",
       "      <td>2413.58</td>\n",
       "      <td>FACTURE TELEPHONE</td>\n",
       "    </tr>\n",
       "  </tbody>\n",
       "</table>\n",
       "<p>309 rows × 5 columns</p>\n",
       "</div>"
      ],
      "text/plain": [
       "    date_operation                                       libelle  montant  \\\n",
       "0       2023-03-31                      DON XX XX XX XX XX XX XX    -1.44   \n",
       "1       2023-04-03                           CARTE XX XX RAPT XX   -24.00   \n",
       "2       2023-04-03                           CARTE XX XX RAPT XX   -73.00   \n",
       "3       2023-04-03  VIREMENT XX XX XX XX XX XX XX XX XX XX XX XX   676.00   \n",
       "4       2023-04-03                    VIREMENT XX XX XX XX XX XX     4.80   \n",
       "..             ...                                           ...      ...   \n",
       "304     2023-10-05                       CARTE XX XX XX XX XX XX   -10.64   \n",
       "305     2023-10-05                             CARTE XX XX XX XX    -4.80   \n",
       "306     2023-10-06          FORFAIT COMPTE SUPERBANK XX XX XX XX    -1.92   \n",
       "307     2023-10-06                       CARTE XX XX CHEZ LUC XX   -10.00   \n",
       "308     2023-10-06                PRELEVEMENT XX TELEPHONE XX XX   -13.58   \n",
       "\n",
       "     solde_avt_ope                categ  \n",
       "0          1515.25                AUTRE  \n",
       "1          1513.81            TRANSPORT  \n",
       "2          1489.81            TRANSPORT  \n",
       "3          1416.81                AUTRE  \n",
       "4          2092.81                AUTRE  \n",
       "..             ...                  ...  \n",
       "304        2440.94                AUTRE  \n",
       "305        2430.30                AUTRE  \n",
       "306        2425.50  COTISATION BANCAIRE  \n",
       "307        2423.58           RESTAURANT  \n",
       "308        2413.58    FACTURE TELEPHONE  \n",
       "\n",
       "[309 rows x 5 columns]"
      ]
     },
     "execution_count": 3,
     "metadata": {},
     "output_type": "execute_result"
    }
   ],
   "source": [
    "data = pd.read_csv('datasets/operations.csv')\n",
    "data"
   ]
  },
  {
   "cell_type": "code",
   "execution_count": 4,
   "metadata": {},
   "outputs": [
    {
     "data": {
      "text/plain": [
       "date_operation     object\n",
       "libelle            object\n",
       "montant           float64\n",
       "solde_avt_ope     float64\n",
       "categ              object\n",
       "dtype: object"
      ]
     },
     "execution_count": 4,
     "metadata": {},
     "output_type": "execute_result"
    }
   ],
   "source": [
    "data.dtypes"
   ]
  },
  {
   "cell_type": "code",
   "execution_count": 5,
   "metadata": {},
   "outputs": [
    {
     "data": {
      "text/plain": [
       "date_operation    datetime64[ns]\n",
       "libelle                   object\n",
       "montant                  float64\n",
       "solde_avt_ope            float64\n",
       "categ                     object\n",
       "dtype: object"
      ]
     },
     "execution_count": 5,
     "metadata": {},
     "output_type": "execute_result"
    }
   ],
   "source": [
    "data['date_operation'] = pd.to_datetime(data['date_operation'])\n",
    "data.dtypes"
   ]
  },
  {
   "cell_type": "markdown",
   "metadata": {},
   "source": [
    "## Valeurs manquantes"
   ]
  },
  {
   "cell_type": "code",
   "execution_count": 6,
   "metadata": {},
   "outputs": [
    {
     "data": {
      "text/plain": [
       "date_operation    0\n",
       "libelle           0\n",
       "montant           2\n",
       "solde_avt_ope     0\n",
       "categ             1\n",
       "dtype: int64"
      ]
     },
     "execution_count": 6,
     "metadata": {},
     "output_type": "execute_result"
    }
   ],
   "source": [
    "data.isnull().sum()"
   ]
  },
  {
   "cell_type": "code",
   "execution_count": 7,
   "metadata": {},
   "outputs": [
    {
     "data": {
      "text/plain": [
       "montant    2\n",
       "categ      1\n",
       "dtype: int64"
      ]
     },
     "execution_count": 7,
     "metadata": {},
     "output_type": "execute_result"
    }
   ],
   "source": [
    "nb_na = data.isnull().sum()\n",
    "nb_na[nb_na > 0]"
   ]
  },
  {
   "cell_type": "code",
   "execution_count": 8,
   "metadata": {},
   "outputs": [
    {
     "data": {
      "text/html": [
       "<div>\n",
       "<style scoped>\n",
       "    .dataframe tbody tr th:only-of-type {\n",
       "        vertical-align: middle;\n",
       "    }\n",
       "\n",
       "    .dataframe tbody tr th {\n",
       "        vertical-align: top;\n",
       "    }\n",
       "\n",
       "    .dataframe thead th {\n",
       "        text-align: right;\n",
       "    }\n",
       "</style>\n",
       "<table border=\"1\" class=\"dataframe\">\n",
       "  <thead>\n",
       "    <tr style=\"text-align: right;\">\n",
       "      <th></th>\n",
       "      <th>date_operation</th>\n",
       "      <th>libelle</th>\n",
       "      <th>montant</th>\n",
       "      <th>solde_avt_ope</th>\n",
       "      <th>categ</th>\n",
       "    </tr>\n",
       "  </thead>\n",
       "  <tbody>\n",
       "    <tr>\n",
       "      <th>107</th>\n",
       "      <td>2023-06-12</td>\n",
       "      <td>CARTE XX XX LES ANCIENS ROBINSON XX</td>\n",
       "      <td>NaN</td>\n",
       "      <td>4667.19</td>\n",
       "      <td>COURSES</td>\n",
       "    </tr>\n",
       "    <tr>\n",
       "      <th>269</th>\n",
       "      <td>2023-09-11</td>\n",
       "      <td>CARTE XX XX XX XX</td>\n",
       "      <td>NaN</td>\n",
       "      <td>3401.93</td>\n",
       "      <td>AUTRE</td>\n",
       "    </tr>\n",
       "  </tbody>\n",
       "</table>\n",
       "</div>"
      ],
      "text/plain": [
       "    date_operation                              libelle  montant  \\\n",
       "107     2023-06-12  CARTE XX XX LES ANCIENS ROBINSON XX      NaN   \n",
       "269     2023-09-11                    CARTE XX XX XX XX      NaN   \n",
       "\n",
       "     solde_avt_ope    categ  \n",
       "107        4667.19  COURSES  \n",
       "269        3401.93    AUTRE  "
      ]
     },
     "execution_count": 8,
     "metadata": {},
     "output_type": "execute_result"
    }
   ],
   "source": [
    "data.loc[data['montant'].isnull(), :]"
   ]
  },
  {
   "cell_type": "code",
   "execution_count": 9,
   "metadata": {},
   "outputs": [
    {
     "data": {
      "text/html": [
       "<div>\n",
       "<style scoped>\n",
       "    .dataframe tbody tr th:only-of-type {\n",
       "        vertical-align: middle;\n",
       "    }\n",
       "\n",
       "    .dataframe tbody tr th {\n",
       "        vertical-align: top;\n",
       "    }\n",
       "\n",
       "    .dataframe thead th {\n",
       "        text-align: right;\n",
       "    }\n",
       "</style>\n",
       "<table border=\"1\" class=\"dataframe\">\n",
       "  <thead>\n",
       "    <tr style=\"text-align: right;\">\n",
       "      <th></th>\n",
       "      <th>date_operation</th>\n",
       "      <th>libelle</th>\n",
       "      <th>montant</th>\n",
       "      <th>solde_avt_ope</th>\n",
       "      <th>categ</th>\n",
       "    </tr>\n",
       "  </thead>\n",
       "  <tbody>\n",
       "  </tbody>\n",
       "</table>\n",
       "</div>"
      ],
      "text/plain": [
       "Empty DataFrame\n",
       "Columns: [date_operation, libelle, montant, solde_avt_ope, categ]\n",
       "Index: []"
      ]
     },
     "execution_count": 9,
     "metadata": {},
     "output_type": "execute_result"
    }
   ],
   "source": [
    "# Les montant manquants correspondent au solde de l'opération suivante, moins le solde de l'opération concernée.\n",
    "data_na = data.loc[data['montant'].isnull(), :]\n",
    "for index in data_na.index:\n",
    "    data.loc[index, 'montant'] = data.loc[index + 1, 'solde_avt_ope'] - data.loc[index, 'solde_avt_ope']\n",
    "data.loc[data['montant'].isnull(), :]"
   ]
  },
  {
   "cell_type": "code",
   "execution_count": 10,
   "metadata": {},
   "outputs": [
    {
     "data": {
      "text/html": [
       "<div>\n",
       "<style scoped>\n",
       "    .dataframe tbody tr th:only-of-type {\n",
       "        vertical-align: middle;\n",
       "    }\n",
       "\n",
       "    .dataframe tbody tr th {\n",
       "        vertical-align: top;\n",
       "    }\n",
       "\n",
       "    .dataframe thead th {\n",
       "        text-align: right;\n",
       "    }\n",
       "</style>\n",
       "<table border=\"1\" class=\"dataframe\">\n",
       "  <thead>\n",
       "    <tr style=\"text-align: right;\">\n",
       "      <th></th>\n",
       "      <th>date_operation</th>\n",
       "      <th>libelle</th>\n",
       "      <th>montant</th>\n",
       "      <th>solde_avt_ope</th>\n",
       "      <th>categ</th>\n",
       "    </tr>\n",
       "  </thead>\n",
       "  <tbody>\n",
       "    <tr>\n",
       "      <th>103</th>\n",
       "      <td>2023-06-12</td>\n",
       "      <td>CARTE XX XX TOUPTIPRI XX</td>\n",
       "      <td>-2.51</td>\n",
       "      <td>4682.53</td>\n",
       "      <td>COURSES</td>\n",
       "    </tr>\n",
       "    <tr>\n",
       "      <th>104</th>\n",
       "      <td>2023-06-12</td>\n",
       "      <td>CARTE XX XX LES ANCIENS ROBINSON XX</td>\n",
       "      <td>-4.63</td>\n",
       "      <td>4680.02</td>\n",
       "      <td>COURSES</td>\n",
       "    </tr>\n",
       "    <tr>\n",
       "      <th>105</th>\n",
       "      <td>2023-06-12</td>\n",
       "      <td>CARTE XX XX TOUPTIPRI XX</td>\n",
       "      <td>-5.88</td>\n",
       "      <td>4675.39</td>\n",
       "      <td>COURSES</td>\n",
       "    </tr>\n",
       "    <tr>\n",
       "      <th>106</th>\n",
       "      <td>2023-06-12</td>\n",
       "      <td>CARTE XX XX XX XX XX XX</td>\n",
       "      <td>-2.32</td>\n",
       "      <td>4669.51</td>\n",
       "      <td>AUTRE</td>\n",
       "    </tr>\n",
       "    <tr>\n",
       "      <th>107</th>\n",
       "      <td>2023-06-12</td>\n",
       "      <td>CARTE XX XX LES ANCIENS ROBINSON XX</td>\n",
       "      <td>-26.58</td>\n",
       "      <td>4667.19</td>\n",
       "      <td>COURSES</td>\n",
       "    </tr>\n",
       "    <tr>\n",
       "      <th>108</th>\n",
       "      <td>2023-06-12</td>\n",
       "      <td>CARTE XX XX CHEZ LUC XX</td>\n",
       "      <td>-9.20</td>\n",
       "      <td>4640.61</td>\n",
       "      <td>RESTAURANT</td>\n",
       "    </tr>\n",
       "  </tbody>\n",
       "</table>\n",
       "</div>"
      ],
      "text/plain": [
       "    date_operation                              libelle  montant  \\\n",
       "103     2023-06-12             CARTE XX XX TOUPTIPRI XX    -2.51   \n",
       "104     2023-06-12  CARTE XX XX LES ANCIENS ROBINSON XX    -4.63   \n",
       "105     2023-06-12             CARTE XX XX TOUPTIPRI XX    -5.88   \n",
       "106     2023-06-12              CARTE XX XX XX XX XX XX    -2.32   \n",
       "107     2023-06-12  CARTE XX XX LES ANCIENS ROBINSON XX   -26.58   \n",
       "108     2023-06-12              CARTE XX XX CHEZ LUC XX    -9.20   \n",
       "\n",
       "     solde_avt_ope       categ  \n",
       "103        4682.53     COURSES  \n",
       "104        4680.02     COURSES  \n",
       "105        4675.39     COURSES  \n",
       "106        4669.51       AUTRE  \n",
       "107        4667.19     COURSES  \n",
       "108        4640.61  RESTAURANT  "
      ]
     },
     "execution_count": 10,
     "metadata": {},
     "output_type": "execute_result"
    }
   ],
   "source": [
    "data.loc[data['date_operation'] == '2023-06-12', :]"
   ]
  },
  {
   "cell_type": "code",
   "execution_count": 11,
   "metadata": {},
   "outputs": [
    {
     "data": {
      "text/html": [
       "<div>\n",
       "<style scoped>\n",
       "    .dataframe tbody tr th:only-of-type {\n",
       "        vertical-align: middle;\n",
       "    }\n",
       "\n",
       "    .dataframe tbody tr th {\n",
       "        vertical-align: top;\n",
       "    }\n",
       "\n",
       "    .dataframe thead th {\n",
       "        text-align: right;\n",
       "    }\n",
       "</style>\n",
       "<table border=\"1\" class=\"dataframe\">\n",
       "  <thead>\n",
       "    <tr style=\"text-align: right;\">\n",
       "      <th></th>\n",
       "      <th>date_operation</th>\n",
       "      <th>libelle</th>\n",
       "      <th>montant</th>\n",
       "      <th>solde_avt_ope</th>\n",
       "      <th>categ</th>\n",
       "    </tr>\n",
       "  </thead>\n",
       "  <tbody>\n",
       "    <tr>\n",
       "      <th>156</th>\n",
       "      <td>2023-07-06</td>\n",
       "      <td>PRELEVEMENT XX TELEPHONE XX XX</td>\n",
       "      <td>-36.48</td>\n",
       "      <td>3295.68</td>\n",
       "      <td>NaN</td>\n",
       "    </tr>\n",
       "  </tbody>\n",
       "</table>\n",
       "</div>"
      ],
      "text/plain": [
       "    date_operation                         libelle  montant  solde_avt_ope  \\\n",
       "156     2023-07-06  PRELEVEMENT XX TELEPHONE XX XX   -36.48        3295.68   \n",
       "\n",
       "    categ  \n",
       "156   NaN  "
      ]
     },
     "execution_count": 11,
     "metadata": {},
     "output_type": "execute_result"
    }
   ],
   "source": [
    "data.loc[data['categ'].isnull(),:]"
   ]
  },
  {
   "cell_type": "code",
   "execution_count": 12,
   "metadata": {},
   "outputs": [
    {
     "data": {
      "text/html": [
       "<div>\n",
       "<style scoped>\n",
       "    .dataframe tbody tr th:only-of-type {\n",
       "        vertical-align: middle;\n",
       "    }\n",
       "\n",
       "    .dataframe tbody tr th {\n",
       "        vertical-align: top;\n",
       "    }\n",
       "\n",
       "    .dataframe thead th {\n",
       "        text-align: right;\n",
       "    }\n",
       "</style>\n",
       "<table border=\"1\" class=\"dataframe\">\n",
       "  <thead>\n",
       "    <tr style=\"text-align: right;\">\n",
       "      <th></th>\n",
       "      <th>date_operation</th>\n",
       "      <th>libelle</th>\n",
       "      <th>montant</th>\n",
       "      <th>solde_avt_ope</th>\n",
       "      <th>categ</th>\n",
       "    </tr>\n",
       "  </thead>\n",
       "  <tbody>\n",
       "    <tr>\n",
       "      <th>8</th>\n",
       "      <td>2023-04-05</td>\n",
       "      <td>PRELEVEMENT XX TELEPHONE XX XX</td>\n",
       "      <td>-7.02</td>\n",
       "      <td>2056.02</td>\n",
       "      <td>FACTURE TELEPHONE</td>\n",
       "    </tr>\n",
       "    <tr>\n",
       "      <th>62</th>\n",
       "      <td>2023-05-09</td>\n",
       "      <td>PRELEVEMENT XX TELEPHONE XX XX</td>\n",
       "      <td>-7.02</td>\n",
       "      <td>4090.10</td>\n",
       "      <td>FACTURE TELEPHONE</td>\n",
       "    </tr>\n",
       "    <tr>\n",
       "      <th>102</th>\n",
       "      <td>2023-06-07</td>\n",
       "      <td>PRELEVEMENT XX TELEPHONE XX XX</td>\n",
       "      <td>-6.38</td>\n",
       "      <td>4688.91</td>\n",
       "      <td>FACTURE TELEPHONE</td>\n",
       "    </tr>\n",
       "    <tr>\n",
       "      <th>156</th>\n",
       "      <td>2023-07-06</td>\n",
       "      <td>PRELEVEMENT XX TELEPHONE XX XX</td>\n",
       "      <td>-36.48</td>\n",
       "      <td>3295.68</td>\n",
       "      <td>NaN</td>\n",
       "    </tr>\n",
       "    <tr>\n",
       "      <th>204</th>\n",
       "      <td>2023-08-07</td>\n",
       "      <td>PRELEVEMENT XX TELEPHONE XX XX</td>\n",
       "      <td>-7.46</td>\n",
       "      <td>3751.73</td>\n",
       "      <td>FACTURE TELEPHONE</td>\n",
       "    </tr>\n",
       "    <tr>\n",
       "      <th>260</th>\n",
       "      <td>2023-09-05</td>\n",
       "      <td>PRELEVEMENT XX TELEPHONE XX XX</td>\n",
       "      <td>-6.38</td>\n",
       "      <td>3453.96</td>\n",
       "      <td>FACTURE TELEPHONE</td>\n",
       "    </tr>\n",
       "    <tr>\n",
       "      <th>308</th>\n",
       "      <td>2023-10-06</td>\n",
       "      <td>PRELEVEMENT XX TELEPHONE XX XX</td>\n",
       "      <td>-13.58</td>\n",
       "      <td>2413.58</td>\n",
       "      <td>FACTURE TELEPHONE</td>\n",
       "    </tr>\n",
       "  </tbody>\n",
       "</table>\n",
       "</div>"
      ],
      "text/plain": [
       "    date_operation                         libelle  montant  solde_avt_ope  \\\n",
       "8       2023-04-05  PRELEVEMENT XX TELEPHONE XX XX    -7.02        2056.02   \n",
       "62      2023-05-09  PRELEVEMENT XX TELEPHONE XX XX    -7.02        4090.10   \n",
       "102     2023-06-07  PRELEVEMENT XX TELEPHONE XX XX    -6.38        4688.91   \n",
       "156     2023-07-06  PRELEVEMENT XX TELEPHONE XX XX   -36.48        3295.68   \n",
       "204     2023-08-07  PRELEVEMENT XX TELEPHONE XX XX    -7.46        3751.73   \n",
       "260     2023-09-05  PRELEVEMENT XX TELEPHONE XX XX    -6.38        3453.96   \n",
       "308     2023-10-06  PRELEVEMENT XX TELEPHONE XX XX   -13.58        2413.58   \n",
       "\n",
       "                 categ  \n",
       "8    FACTURE TELEPHONE  \n",
       "62   FACTURE TELEPHONE  \n",
       "102  FACTURE TELEPHONE  \n",
       "156                NaN  \n",
       "204  FACTURE TELEPHONE  \n",
       "260  FACTURE TELEPHONE  \n",
       "308  FACTURE TELEPHONE  "
      ]
     },
     "execution_count": 12,
     "metadata": {},
     "output_type": "execute_result"
    }
   ],
   "source": [
    "data.loc[data['libelle'] == 'PRELEVEMENT XX TELEPHONE XX XX', :]"
   ]
  },
  {
   "cell_type": "code",
   "execution_count": 13,
   "metadata": {},
   "outputs": [
    {
     "data": {
      "text/html": [
       "<div>\n",
       "<style scoped>\n",
       "    .dataframe tbody tr th:only-of-type {\n",
       "        vertical-align: middle;\n",
       "    }\n",
       "\n",
       "    .dataframe tbody tr th {\n",
       "        vertical-align: top;\n",
       "    }\n",
       "\n",
       "    .dataframe thead th {\n",
       "        text-align: right;\n",
       "    }\n",
       "</style>\n",
       "<table border=\"1\" class=\"dataframe\">\n",
       "  <thead>\n",
       "    <tr style=\"text-align: right;\">\n",
       "      <th></th>\n",
       "      <th>date_operation</th>\n",
       "      <th>libelle</th>\n",
       "      <th>montant</th>\n",
       "      <th>solde_avt_ope</th>\n",
       "      <th>categ</th>\n",
       "    </tr>\n",
       "  </thead>\n",
       "  <tbody>\n",
       "  </tbody>\n",
       "</table>\n",
       "</div>"
      ],
      "text/plain": [
       "Empty DataFrame\n",
       "Columns: [date_operation, libelle, montant, solde_avt_ope, categ]\n",
       "Index: []"
      ]
     },
     "execution_count": 13,
     "metadata": {},
     "output_type": "execute_result"
    }
   ],
   "source": [
    "data.loc[data['categ'].isnull(), 'categ'] = 'FACTURE TELEPHONE'\n",
    "data.loc[data['categ'].isnull(),:]"
   ]
  },
  {
   "cell_type": "markdown",
   "metadata": {},
   "source": [
    "## Doublons"
   ]
  },
  {
   "cell_type": "code",
   "execution_count": 14,
   "metadata": {},
   "outputs": [
    {
     "data": {
      "text/html": [
       "<div>\n",
       "<style scoped>\n",
       "    .dataframe tbody tr th:only-of-type {\n",
       "        vertical-align: middle;\n",
       "    }\n",
       "\n",
       "    .dataframe tbody tr th {\n",
       "        vertical-align: top;\n",
       "    }\n",
       "\n",
       "    .dataframe thead th {\n",
       "        text-align: right;\n",
       "    }\n",
       "</style>\n",
       "<table border=\"1\" class=\"dataframe\">\n",
       "  <thead>\n",
       "    <tr style=\"text-align: right;\">\n",
       "      <th></th>\n",
       "      <th>date_operation</th>\n",
       "      <th>libelle</th>\n",
       "      <th>montant</th>\n",
       "      <th>solde_avt_ope</th>\n",
       "      <th>categ</th>\n",
       "    </tr>\n",
       "  </thead>\n",
       "  <tbody>\n",
       "    <tr>\n",
       "      <th>43</th>\n",
       "      <td>2023-04-25</td>\n",
       "      <td>CARTE XX XX LES ANCIENS ROBINSON XX</td>\n",
       "      <td>-32.67</td>\n",
       "      <td>3647.67</td>\n",
       "      <td>COURSES</td>\n",
       "    </tr>\n",
       "    <tr>\n",
       "      <th>44</th>\n",
       "      <td>2023-04-25</td>\n",
       "      <td>CARTE XX XX LES ANCIENS ROBINSON XX</td>\n",
       "      <td>-32.67</td>\n",
       "      <td>3647.67</td>\n",
       "      <td>COURSES</td>\n",
       "    </tr>\n",
       "  </tbody>\n",
       "</table>\n",
       "</div>"
      ],
      "text/plain": [
       "   date_operation                              libelle  montant  \\\n",
       "43     2023-04-25  CARTE XX XX LES ANCIENS ROBINSON XX   -32.67   \n",
       "44     2023-04-25  CARTE XX XX LES ANCIENS ROBINSON XX   -32.67   \n",
       "\n",
       "    solde_avt_ope    categ  \n",
       "43        3647.67  COURSES  \n",
       "44        3647.67  COURSES  "
      ]
     },
     "execution_count": 14,
     "metadata": {},
     "output_type": "execute_result"
    }
   ],
   "source": [
    "data.loc[data[['date_operation', 'libelle', 'montant', 'solde_avt_ope']].duplicated(keep=False),:]"
   ]
  },
  {
   "cell_type": "code",
   "execution_count": 15,
   "metadata": {},
   "outputs": [],
   "source": [
    "data.drop_duplicates(subset=['date_operation', 'libelle', 'montant', 'solde_avt_ope'], inplace=True, ignore_index=True)"
   ]
  },
  {
   "cell_type": "code",
   "execution_count": 16,
   "metadata": {},
   "outputs": [
    {
     "data": {
      "text/html": [
       "<div>\n",
       "<style scoped>\n",
       "    .dataframe tbody tr th:only-of-type {\n",
       "        vertical-align: middle;\n",
       "    }\n",
       "\n",
       "    .dataframe tbody tr th {\n",
       "        vertical-align: top;\n",
       "    }\n",
       "\n",
       "    .dataframe thead th {\n",
       "        text-align: right;\n",
       "    }\n",
       "</style>\n",
       "<table border=\"1\" class=\"dataframe\">\n",
       "  <thead>\n",
       "    <tr style=\"text-align: right;\">\n",
       "      <th></th>\n",
       "      <th>date_operation</th>\n",
       "      <th>libelle</th>\n",
       "      <th>montant</th>\n",
       "      <th>solde_avt_ope</th>\n",
       "      <th>categ</th>\n",
       "    </tr>\n",
       "  </thead>\n",
       "  <tbody>\n",
       "  </tbody>\n",
       "</table>\n",
       "</div>"
      ],
      "text/plain": [
       "Empty DataFrame\n",
       "Columns: [date_operation, libelle, montant, solde_avt_ope, categ]\n",
       "Index: []"
      ]
     },
     "execution_count": 16,
     "metadata": {},
     "output_type": "execute_result"
    }
   ],
   "source": [
    "data.loc[data[['date_operation', 'libelle', 'montant', 'solde_avt_ope']].duplicated(keep=False),:]"
   ]
  },
  {
   "cell_type": "markdown",
   "metadata": {},
   "source": [
    "## Outliers"
   ]
  },
  {
   "cell_type": "code",
   "execution_count": 17,
   "metadata": {},
   "outputs": [
    {
     "data": {
      "text/html": [
       "<div>\n",
       "<style scoped>\n",
       "    .dataframe tbody tr th:only-of-type {\n",
       "        vertical-align: middle;\n",
       "    }\n",
       "\n",
       "    .dataframe tbody tr th {\n",
       "        vertical-align: top;\n",
       "    }\n",
       "\n",
       "    .dataframe thead th {\n",
       "        text-align: right;\n",
       "    }\n",
       "</style>\n",
       "<table border=\"1\" class=\"dataframe\">\n",
       "  <thead>\n",
       "    <tr style=\"text-align: right;\">\n",
       "      <th></th>\n",
       "      <th>date_operation</th>\n",
       "      <th>montant</th>\n",
       "      <th>solde_avt_ope</th>\n",
       "    </tr>\n",
       "  </thead>\n",
       "  <tbody>\n",
       "    <tr>\n",
       "      <th>count</th>\n",
       "      <td>308</td>\n",
       "      <td>308.000000</td>\n",
       "      <td>308.000000</td>\n",
       "    </tr>\n",
       "    <tr>\n",
       "      <th>mean</th>\n",
       "      <td>2023-07-05 10:59:13.246753280</td>\n",
       "      <td>-45.782013</td>\n",
       "      <td>3395.301071</td>\n",
       "    </tr>\n",
       "    <tr>\n",
       "      <th>min</th>\n",
       "      <td>2023-03-31 00:00:00</td>\n",
       "      <td>-15000.000000</td>\n",
       "      <td>1416.810000</td>\n",
       "    </tr>\n",
       "    <tr>\n",
       "      <th>25%</th>\n",
       "      <td>2023-05-21 06:00:00</td>\n",
       "      <td>-20.447500</td>\n",
       "      <td>3010.737500</td>\n",
       "    </tr>\n",
       "    <tr>\n",
       "      <th>50%</th>\n",
       "      <td>2023-07-05 12:00:00</td>\n",
       "      <td>-9.600000</td>\n",
       "      <td>3452.465000</td>\n",
       "    </tr>\n",
       "    <tr>\n",
       "      <th>75%</th>\n",
       "      <td>2023-08-21 00:00:00</td>\n",
       "      <td>-2.715000</td>\n",
       "      <td>3787.232500</td>\n",
       "    </tr>\n",
       "    <tr>\n",
       "      <th>max</th>\n",
       "      <td>2023-10-06 00:00:00</td>\n",
       "      <td>1071.600000</td>\n",
       "      <td>4709.310000</td>\n",
       "    </tr>\n",
       "    <tr>\n",
       "      <th>std</th>\n",
       "      <td>NaN</td>\n",
       "      <td>872.818105</td>\n",
       "      <td>667.109412</td>\n",
       "    </tr>\n",
       "  </tbody>\n",
       "</table>\n",
       "</div>"
      ],
      "text/plain": [
       "                      date_operation       montant  solde_avt_ope\n",
       "count                            308    308.000000     308.000000\n",
       "mean   2023-07-05 10:59:13.246753280    -45.782013    3395.301071\n",
       "min              2023-03-31 00:00:00 -15000.000000    1416.810000\n",
       "25%              2023-05-21 06:00:00    -20.447500    3010.737500\n",
       "50%              2023-07-05 12:00:00     -9.600000    3452.465000\n",
       "75%              2023-08-21 00:00:00     -2.715000    3787.232500\n",
       "max              2023-10-06 00:00:00   1071.600000    4709.310000\n",
       "std                              NaN    872.818105     667.109412"
      ]
     },
     "execution_count": 17,
     "metadata": {},
     "output_type": "execute_result"
    }
   ],
   "source": [
    "data.describe()"
   ]
  },
  {
   "cell_type": "code",
   "execution_count": 18,
   "metadata": {},
   "outputs": [
    {
     "data": {
      "text/html": [
       "<div>\n",
       "<style scoped>\n",
       "    .dataframe tbody tr th:only-of-type {\n",
       "        vertical-align: middle;\n",
       "    }\n",
       "\n",
       "    .dataframe tbody tr th {\n",
       "        vertical-align: top;\n",
       "    }\n",
       "\n",
       "    .dataframe thead th {\n",
       "        text-align: right;\n",
       "    }\n",
       "</style>\n",
       "<table border=\"1\" class=\"dataframe\">\n",
       "  <thead>\n",
       "    <tr style=\"text-align: right;\">\n",
       "      <th></th>\n",
       "      <th>date_operation</th>\n",
       "      <th>libelle</th>\n",
       "      <th>montant</th>\n",
       "      <th>solde_avt_ope</th>\n",
       "      <th>categ</th>\n",
       "    </tr>\n",
       "  </thead>\n",
       "  <tbody>\n",
       "    <tr>\n",
       "      <th>197</th>\n",
       "      <td>2023-08-03</td>\n",
       "      <td>VIREMENT XX XX XX XX XX XX XX XX XX XX XX XX</td>\n",
       "      <td>676.00</td>\n",
       "      <td>3121.35</td>\n",
       "      <td>AUTRE</td>\n",
       "    </tr>\n",
       "    <tr>\n",
       "      <th>198</th>\n",
       "      <td>2023-08-03</td>\n",
       "      <td>CARTE XX XX XX XX</td>\n",
       "      <td>-15000.00</td>\n",
       "      <td>3797.35</td>\n",
       "      <td>AUTRE</td>\n",
       "    </tr>\n",
       "    <tr>\n",
       "      <th>199</th>\n",
       "      <td>2023-08-03</td>\n",
       "      <td>CARTE XX XX L'EPICERIE DEMBAS XX XX</td>\n",
       "      <td>-10.51</td>\n",
       "      <td>3782.96</td>\n",
       "      <td>AUTRE</td>\n",
       "    </tr>\n",
       "  </tbody>\n",
       "</table>\n",
       "</div>"
      ],
      "text/plain": [
       "    date_operation                                       libelle   montant  \\\n",
       "197     2023-08-03  VIREMENT XX XX XX XX XX XX XX XX XX XX XX XX    676.00   \n",
       "198     2023-08-03                             CARTE XX XX XX XX -15000.00   \n",
       "199     2023-08-03           CARTE XX XX L'EPICERIE DEMBAS XX XX    -10.51   \n",
       "\n",
       "     solde_avt_ope  categ  \n",
       "197        3121.35  AUTRE  \n",
       "198        3797.35  AUTRE  \n",
       "199        3782.96  AUTRE  "
      ]
     },
     "execution_count": 18,
     "metadata": {},
     "output_type": "execute_result"
    }
   ],
   "source": [
    "i = data.loc[data['montant']==-15000,:].index[0]\n",
    "data.iloc[i-1:i+2,:]"
   ]
  },
  {
   "cell_type": "code",
   "execution_count": 19,
   "metadata": {},
   "outputs": [
    {
     "data": {
      "text/html": [
       "<div>\n",
       "<style scoped>\n",
       "    .dataframe tbody tr th:only-of-type {\n",
       "        vertical-align: middle;\n",
       "    }\n",
       "\n",
       "    .dataframe tbody tr th {\n",
       "        vertical-align: top;\n",
       "    }\n",
       "\n",
       "    .dataframe thead th {\n",
       "        text-align: right;\n",
       "    }\n",
       "</style>\n",
       "<table border=\"1\" class=\"dataframe\">\n",
       "  <thead>\n",
       "    <tr style=\"text-align: right;\">\n",
       "      <th></th>\n",
       "      <th>date_operation</th>\n",
       "      <th>montant</th>\n",
       "      <th>solde_avt_ope</th>\n",
       "    </tr>\n",
       "  </thead>\n",
       "  <tbody>\n",
       "    <tr>\n",
       "      <th>count</th>\n",
       "      <td>308</td>\n",
       "      <td>308.000000</td>\n",
       "      <td>308.000000</td>\n",
       "    </tr>\n",
       "    <tr>\n",
       "      <th>mean</th>\n",
       "      <td>2023-07-05 10:59:13.246753280</td>\n",
       "      <td>2.872565</td>\n",
       "      <td>3395.301071</td>\n",
       "    </tr>\n",
       "    <tr>\n",
       "      <th>min</th>\n",
       "      <td>2023-03-31 00:00:00</td>\n",
       "      <td>-602.270000</td>\n",
       "      <td>1416.810000</td>\n",
       "    </tr>\n",
       "    <tr>\n",
       "      <th>25%</th>\n",
       "      <td>2023-05-21 06:00:00</td>\n",
       "      <td>-20.047500</td>\n",
       "      <td>3010.737500</td>\n",
       "    </tr>\n",
       "    <tr>\n",
       "      <th>50%</th>\n",
       "      <td>2023-07-05 12:00:00</td>\n",
       "      <td>-9.600000</td>\n",
       "      <td>3452.465000</td>\n",
       "    </tr>\n",
       "    <tr>\n",
       "      <th>75%</th>\n",
       "      <td>2023-08-21 00:00:00</td>\n",
       "      <td>-2.715000</td>\n",
       "      <td>3787.232500</td>\n",
       "    </tr>\n",
       "    <tr>\n",
       "      <th>max</th>\n",
       "      <td>2023-10-06 00:00:00</td>\n",
       "      <td>1071.600000</td>\n",
       "      <td>4709.310000</td>\n",
       "    </tr>\n",
       "    <tr>\n",
       "      <th>std</th>\n",
       "      <td>NaN</td>\n",
       "      <td>176.089858</td>\n",
       "      <td>667.109412</td>\n",
       "    </tr>\n",
       "  </tbody>\n",
       "</table>\n",
       "</div>"
      ],
      "text/plain": [
       "                      date_operation      montant  solde_avt_ope\n",
       "count                            308   308.000000     308.000000\n",
       "mean   2023-07-05 10:59:13.246753280     2.872565    3395.301071\n",
       "min              2023-03-31 00:00:00  -602.270000    1416.810000\n",
       "25%              2023-05-21 06:00:00   -20.047500    3010.737500\n",
       "50%              2023-07-05 12:00:00    -9.600000    3452.465000\n",
       "75%              2023-08-21 00:00:00    -2.715000    3787.232500\n",
       "max              2023-10-06 00:00:00  1071.600000    4709.310000\n",
       "std                              NaN   176.089858     667.109412"
      ]
     },
     "execution_count": 19,
     "metadata": {},
     "output_type": "execute_result"
    }
   ],
   "source": [
    "data.loc[data['montant']==-15000, 'montant'] = -14.39\n",
    "data.describe()"
   ]
  },
  {
   "cell_type": "markdown",
   "metadata": {},
   "source": [
    "# P3C1 - Représentez la distribution empirique d'une variable"
   ]
  },
  {
   "cell_type": "markdown",
   "metadata": {},
   "source": [
    "## Variables qualitatives"
   ]
  },
  {
   "cell_type": "code",
   "execution_count": 20,
   "metadata": {},
   "outputs": [
    {
     "data": {
      "image/png": "[encoded data removed]",
      "text/plain": [
       "<Figure size 640x480 with 1 Axes>"
      ]
     },
     "metadata": {},
     "output_type": "display_data"
    }
   ],
   "source": [
    "# Pie chart\n",
    "data['categ'].value_counts(normalize=True).plot(kind='pie')\n",
    "plt.axis('equal')\n",
    "plt.show()"
   ]
  },
  {
   "cell_type": "code",
   "execution_count": 21,
   "metadata": {},
   "outputs": [
    {
     "data": {
      "image/png": "[encoded data removed]",
      "text/plain": [
       "<Figure size 640x480 with 1 Axes>"
      ]
     },
     "metadata": {},
     "output_type": "display_data"
    }
   ],
   "source": [
    "# bar chart\n",
    "data['categ'].value_counts(normalize=True).plot(kind='bar')\n",
    "plt.show()"
   ]
  },
  {
   "cell_type": "markdown",
   "metadata": {},
   "source": [
    "## Variables quantitatives"
   ]
  },
  {
   "cell_type": "markdown",
   "metadata": {},
   "source": [
    "### Discrétes"
   ]
  },
  {
   "cell_type": "code",
   "execution_count": 22,
   "metadata": {},
   "outputs": [],
   "source": [
    "data['quart_mois'] = [int((jour - 1) * 4 / 31) + 1 for jour in data['date_operation'].dt.day]"
   ]
  },
  {
   "cell_type": "code",
   "execution_count": 23,
   "metadata": {},
   "outputs": [
    {
     "data": {
      "image/png": "[encoded data removed]",
      "text/plain": [
       "<Figure size 640x480 with 1 Axes>"
      ]
     },
     "metadata": {},
     "output_type": "display_data"
    }
   ],
   "source": [
    "data['quart_mois'].value_counts(normalize=True).plot(kind='bar', width=0.1)\n",
    "plt.show()"
   ]
  },
  {
   "cell_type": "markdown",
   "metadata": {},
   "source": [
    "### Continues"
   ]
  },
  {
   "cell_type": "code",
   "execution_count": 24,
   "metadata": {},
   "outputs": [
    {
     "data": {
      "image/png": "[encoded data removed]",
      "text/plain": [
       "<Figure size 640x480 with 1 Axes>"
      ]
     },
     "metadata": {},
     "output_type": "display_data"
    }
   ],
   "source": [
    "# Histogramme\n",
    "data['montant'].hist(density=True)\n",
    "plt.show()"
   ]
  },
  {
   "cell_type": "code",
   "execution_count": 25,
   "metadata": {},
   "outputs": [
    {
     "data": {
      "image/png": "[encoded data removed]",
      "text/plain": [
       "<Figure size 640x480 with 1 Axes>"
      ]
     },
     "metadata": {},
     "output_type": "display_data"
    }
   ],
   "source": [
    "data[data.montant.abs() < 100]['montant'].hist(density=True, bins=20)\n",
    "plt.show()"
   ]
  },
  {
   "cell_type": "markdown",
   "metadata": {},
   "source": [
    "# P3C2 - Présentez une variable sous forme de tableau"
   ]
  },
  {
   "cell_type": "markdown",
   "metadata": {},
   "source": [
    "## Variable quantitative discréte"
   ]
  },
  {
   "cell_type": "code",
   "execution_count": 26,
   "metadata": {},
   "outputs": [
    {
     "data": {
      "text/html": [
       "<div>\n",
       "<style scoped>\n",
       "    .dataframe tbody tr th:only-of-type {\n",
       "        vertical-align: middle;\n",
       "    }\n",
       "\n",
       "    .dataframe tbody tr th {\n",
       "        vertical-align: top;\n",
       "    }\n",
       "\n",
       "    .dataframe thead th {\n",
       "        text-align: right;\n",
       "    }\n",
       "</style>\n",
       "<table border=\"1\" class=\"dataframe\">\n",
       "  <thead>\n",
       "    <tr style=\"text-align: right;\">\n",
       "      <th></th>\n",
       "      <th>quart_mois</th>\n",
       "      <th>n</th>\n",
       "      <th>f</th>\n",
       "      <th>F</th>\n",
       "    </tr>\n",
       "  </thead>\n",
       "  <tbody>\n",
       "    <tr>\n",
       "      <th>0</th>\n",
       "      <td>1</td>\n",
       "      <td>86</td>\n",
       "      <td>0.279221</td>\n",
       "      <td>0.279221</td>\n",
       "    </tr>\n",
       "    <tr>\n",
       "      <th>1</th>\n",
       "      <td>2</td>\n",
       "      <td>76</td>\n",
       "      <td>0.246753</td>\n",
       "      <td>0.525974</td>\n",
       "    </tr>\n",
       "    <tr>\n",
       "      <th>2</th>\n",
       "      <td>3</td>\n",
       "      <td>75</td>\n",
       "      <td>0.243506</td>\n",
       "      <td>0.769481</td>\n",
       "    </tr>\n",
       "    <tr>\n",
       "      <th>3</th>\n",
       "      <td>4</td>\n",
       "      <td>71</td>\n",
       "      <td>0.230519</td>\n",
       "      <td>1.000000</td>\n",
       "    </tr>\n",
       "  </tbody>\n",
       "</table>\n",
       "</div>"
      ],
      "text/plain": [
       "   quart_mois   n         f         F\n",
       "0           1  86  0.279221  0.279221\n",
       "1           2  76  0.246753  0.525974\n",
       "2           3  75  0.243506  0.769481\n",
       "3           4  71  0.230519  1.000000"
      ]
     },
     "execution_count": 26,
     "metadata": {},
     "output_type": "execute_result"
    }
   ],
   "source": [
    "effectifs = data['quart_mois'].value_counts()\n",
    "modalites = effectifs.index\n",
    "\n",
    "tab = pd.DataFrame(modalites, columns=['quart_mois'])\n",
    "tab['n'] = effectifs.values\n",
    "tab['f'] = tab['n'] / len(data)\n",
    "\n",
    "tab = tab.sort_values('quart_mois')\n",
    "tab['F'] = tab['f'].cumsum()\n",
    "tab"
   ]
  },
  {
   "cell_type": "markdown",
   "metadata": {},
   "source": [
    "# P3C4 - Découvrez les mesures de tendance centrale"
   ]
  },
  {
   "cell_type": "code",
   "execution_count": 27,
   "metadata": {},
   "outputs": [
    {
     "data": {
      "text/plain": [
       "0   -1.6\n",
       "Name: montant, dtype: float64"
      ]
     },
     "execution_count": 27,
     "metadata": {},
     "output_type": "execute_result"
    }
   ],
   "source": [
    "data['montant'].mode()"
   ]
  },
  {
   "cell_type": "code",
   "execution_count": 28,
   "metadata": {},
   "outputs": [
    {
     "data": {
      "text/plain": [
       "2.8725649350649354"
      ]
     },
     "execution_count": 28,
     "metadata": {},
     "output_type": "execute_result"
    }
   ],
   "source": [
    "data['montant'].mean()"
   ]
  },
  {
   "cell_type": "code",
   "execution_count": 29,
   "metadata": {},
   "outputs": [
    {
     "data": {
      "text/plain": [
       "-9.6"
      ]
     },
     "execution_count": 29,
     "metadata": {},
     "output_type": "execute_result"
    }
   ],
   "source": [
    "data['montant'].median()"
   ]
  },
  {
   "cell_type": "code",
   "execution_count": 30,
   "metadata": {},
   "outputs": [
    {
     "name": "stdout",
     "output_type": "stream",
     "text": [
      "--------------------\n",
      "AUTRE\n",
      "moy:\n",
      " 23.433207547169808\n",
      "med:\n",
      " -8.31\n",
      "mod:\n",
      " 0   -1.6\n",
      "Name: montant, dtype: float64\n"
     ]
    },
    {
     "data": {
      "image/png": "[encoded data removed]",
      "text/plain": [
       "<Figure size 640x480 with 1 Axes>"
      ]
     },
     "metadata": {},
     "output_type": "display_data"
    },
    {
     "name": "stdout",
     "output_type": "stream",
     "text": [
      "--------------------\n",
      "TRANSPORT\n",
      "moy:\n",
      " -52.99714285714286\n",
      "med:\n",
      " -53.1\n",
      "mod:\n",
      " 0   -73.0\n",
      "Name: montant, dtype: float64\n"
     ]
    },
    {
     "data": {
      "image/png": "[encoded data removed]",
      "text/plain": [
       "<Figure size 640x480 with 1 Axes>"
      ]
     },
     "metadata": {},
     "output_type": "display_data"
    },
    {
     "name": "stdout",
     "output_type": "stream",
     "text": [
      "--------------------\n",
      "FACTURE TELEPHONE\n",
      "moy:\n",
      " -12.045714285714283\n",
      "med:\n",
      " -7.02\n",
      "mod:\n",
      " 0   -7.02\n",
      "1   -6.38\n",
      "Name: montant, dtype: float64\n"
     ]
    },
    {
     "data": {
      "image/png": "[encoded data removed]",
      "text/plain": [
       "<Figure size 640x480 with 1 Axes>"
      ]
     },
     "metadata": {},
     "output_type": "display_data"
    },
    {
     "name": "stdout",
     "output_type": "stream",
     "text": [
      "--------------------\n",
      "COURSES\n",
      "moy:\n",
      " -16.34128205128205\n",
      "med:\n",
      " -12.24\n",
      "mod:\n",
      " 0    -60.16\n",
      "1    -42.45\n",
      "2    -42.42\n",
      "3    -33.55\n",
      "4    -32.67\n",
      "5    -29.18\n",
      "6    -28.11\n",
      "7    -27.68\n",
      "8    -26.58\n",
      "9    -26.19\n",
      "10   -23.43\n",
      "11   -22.59\n",
      "12   -21.73\n",
      "13   -20.59\n",
      "14   -18.45\n",
      "15   -17.16\n",
      "16   -13.59\n",
      "17   -12.96\n",
      "18   -12.49\n",
      "19   -12.24\n",
      "20   -10.91\n",
      "21   -10.36\n",
      "22    -9.88\n",
      "23    -9.60\n",
      "24    -9.31\n",
      "25    -9.11\n",
      "26    -6.89\n",
      "27    -6.80\n",
      "28    -6.60\n",
      "29    -5.88\n",
      "30    -4.63\n",
      "31    -4.41\n",
      "32    -4.39\n",
      "33    -3.48\n",
      "34    -2.93\n",
      "35    -2.56\n",
      "36    -2.51\n",
      "37    -1.90\n",
      "38    -0.94\n",
      "Name: montant, dtype: float64\n"
     ]
    },
    {
     "data": {
      "image/png": "[encoded data removed]",
      "text/plain": [
       "<Figure size 640x480 with 1 Axes>"
      ]
     },
     "metadata": {},
     "output_type": "display_data"
    },
    {
     "name": "stdout",
     "output_type": "stream",
     "text": [
      "--------------------\n",
      "COTISATION BANCAIRE\n",
      "moy:\n",
      " -1.8857142857142857\n",
      "med:\n",
      " -1.92\n",
      "mod:\n",
      " 0   -1.92\n",
      "Name: montant, dtype: float64\n"
     ]
    },
    {
     "data": {
      "image/png": "[encoded data removed]",
      "text/plain": [
       "<Figure size 640x480 with 1 Axes>"
      ]
     },
     "metadata": {},
     "output_type": "display_data"
    },
    {
     "name": "stdout",
     "output_type": "stream",
     "text": [
      "--------------------\n",
      "RESTAURANT\n",
      "moy:\n",
      " -10.3325\n",
      "med:\n",
      " -10.1\n",
      "mod:\n",
      " 0   -9.2\n",
      "Name: montant, dtype: float64\n"
     ]
    },
    {
     "data": {
      "image/png": "[encoded data removed]",
      "text/plain": [
       "<Figure size 640x480 with 1 Axes>"
      ]
     },
     "metadata": {},
     "output_type": "display_data"
    },
    {
     "name": "stdout",
     "output_type": "stream",
     "text": [
      "--------------------\n",
      "LOYER\n",
      "moy:\n",
      " -345.0\n",
      "med:\n",
      " -345.0\n",
      "mod:\n",
      " 0   -345.0\n",
      "Name: montant, dtype: float64\n"
     ]
    },
    {
     "data": {
      "image/png": "[encoded data removed]",
      "text/plain": [
       "<Figure size 640x480 with 1 Axes>"
      ]
     },
     "metadata": {},
     "output_type": "display_data"
    }
   ],
   "source": [
    "for cat in data['categ'].unique():\n",
    "    subset = data.loc[data['categ'] == cat, :]\n",
    "    print('-'*20)\n",
    "    print(cat)\n",
    "    print(\"moy:\\n\", subset['montant'].mean())\n",
    "    print(\"med:\\n\", subset['montant'].median())\n",
    "    print(\"mod:\\n\", subset['montant'].mode())\n",
    "    subset['montant'].hist()\n",
    "    plt.show()"
   ]
  },
  {
   "cell_type": "markdown",
   "metadata": {},
   "source": [
    "# P3C5 - Comprenez les mesures de dispersion"
   ]
  },
  {
   "cell_type": "markdown",
   "metadata": {},
   "source": [
    "## Variance empirique"
   ]
  },
  {
   "cell_type": "markdown",
   "metadata": {},
   "source": [
    "![Alt text](image.png)"
   ]
  },
  {
   "cell_type": "code",
   "execution_count": 31,
   "metadata": {},
   "outputs": [
    {
     "data": {
      "text/plain": [
       "31007.638040630954"
      ]
     },
     "execution_count": 31,
     "metadata": {},
     "output_type": "execute_result"
    }
   ],
   "source": [
    "# variance empirique\n",
    "data['montant'].var()"
   ]
  },
  {
   "cell_type": "markdown",
   "metadata": {},
   "source": [
    "## Variance empirique corrigée"
   ]
  },
  {
   "cell_type": "markdown",
   "metadata": {},
   "source": [
    "![Alt text](images/image-1.png)"
   ]
  },
  {
   "cell_type": "code",
   "execution_count": 32,
   "metadata": {},
   "outputs": [
    {
     "data": {
      "text/plain": [
       "30906.963891148385"
      ]
     },
     "execution_count": 32,
     "metadata": {},
     "output_type": "execute_result"
    }
   ],
   "source": [
    "# variance empirique corrigée\n",
    "data['montant'].var(ddof=0)"
   ]
  },
  {
   "cell_type": "markdown",
   "metadata": {},
   "source": [
    "## Écart-type empirique"
   ]
  },
  {
   "cell_type": "markdown",
   "metadata": {},
   "source": [
    "![Alt text](images/image-2.png)"
   ]
  },
  {
   "cell_type": "code",
   "execution_count": 33,
   "metadata": {},
   "outputs": [
    {
     "data": {
      "text/plain": [
       "176.08985785851198"
      ]
     },
     "execution_count": 33,
     "metadata": {},
     "output_type": "execute_result"
    }
   ],
   "source": [
    "# écart-type empirique\n",
    "data['montant'].std()"
   ]
  },
  {
   "cell_type": "markdown",
   "metadata": {},
   "source": [
    "## Coefficient de variation"
   ]
  },
  {
   "cell_type": "markdown",
   "metadata": {},
   "source": [
    "![Alt text](images/image-3.png)"
   ]
  },
  {
   "cell_type": "code",
   "execution_count": 34,
   "metadata": {},
   "outputs": [
    {
     "data": {
      "text/plain": [
       "61.30056651079026"
      ]
     },
     "execution_count": 34,
     "metadata": {},
     "output_type": "execute_result"
    }
   ],
   "source": [
    "# coefficient de variation\n",
    "data['montant'].std() / data['montant'].mean()"
   ]
  },
  {
   "cell_type": "markdown",
   "metadata": {},
   "source": [
    "## Écart interquartile"
   ]
  },
  {
   "cell_type": "markdown",
   "metadata": {},
   "source": [
    "Il existe 3 quartiles, notés Q1 (premier quartile), Q2 (deuxième quartile) et Q3 (troisième quartile). Ainsi :\n",
    "- 1/4 des valeurs se trouvent en dessous de Q1 et 3/4 au-dessus ;\n",
    "- 2/4 se trouvent en dessous de Q2, et 2/4 au-dessus (Q2 est la médiane !) ;\n",
    "- 3/4 se trouvent en dessous de Q3, et 1/4 au-dessus.\n",
    "\n",
    "La généralisation de ce concept s'appelle le quantile d'ordre α. Ainsi, la médiane est le quantile d'ordre 0,5, Q1 le quantile d'ordre 0,25, Q3 le quantile d'ordre 0,75. Il y a également les déciles (quantiles d'ordre 0.1, 0.2, etc.), ou les centiles, aussi appelés percentiles (quantiles d'ordre 0,01, 0.02, etc.)."
   ]
  },
  {
   "cell_type": "markdown",
   "metadata": {},
   "source": [
    "![Alt text](images/image-4.png)"
   ]
  },
  {
   "cell_type": "markdown",
   "metadata": {},
   "source": [
    "## Boîte à moustache (boxplot)"
   ]
  },
  {
   "cell_type": "markdown",
   "metadata": {},
   "source": [
    "Elle permet de représenter schématiquement une distribution, en incluant sa dispersion. La boîte est délimitée par Q1 et Q3, et on représente souvent la médiane à l’intérieur de la boîte.<br>\n",
    "On dessine ensuite des moustaches à cette boîte, qui vont de la valeur minimale à la valeur maximale à condition que la moustache (d'un côté ou de l'autre) ne mesure pas plus de 1,5 fois l'écart inter-quartiles.<br>\n",
    "Si certaines valeurs sont au-dessous de \"Q1 − 1.5IQ\" ou au-dessus de \"Q3 + 1.5IQ\", alors on les considère comme des outliers, et on ne les inclut pas dans la moustache."
   ]
  },
  {
   "cell_type": "markdown",
   "metadata": {},
   "source": [
    "![Alt text](images/image-5.png)"
   ]
  },
  {
   "cell_type": "code",
   "execution_count": 35,
   "metadata": {},
   "outputs": [
    {
     "data": {
      "image/png": "[encoded data removed]",
      "text/plain": [
       "<Figure size 640x480 with 1 Axes>"
      ]
     },
     "metadata": {},
     "output_type": "display_data"
    }
   ],
   "source": [
    "data.boxplot(column=\"montant\", vert=False)\n",
    "plt.show()"
   ]
  },
  {
   "cell_type": "markdown",
   "metadata": {},
   "source": [
    "## Écart moyen absolu"
   ]
  },
  {
   "cell_type": "markdown",
   "metadata": {},
   "source": [
    "deux versions : l'une où on mesure les écarts à la moyenne, l'autre où on mesure les écarts à la médiane."
   ]
  },
  {
   "cell_type": "markdown",
   "metadata": {},
   "source": [
    "![Alt text](images/image-6.png)"
   ]
  },
  {
   "cell_type": "markdown",
   "metadata": {},
   "source": [
    "## Application"
   ]
  },
  {
   "cell_type": "code",
   "execution_count": 36,
   "metadata": {},
   "outputs": [
    {
     "name": "stdout",
     "output_type": "stream",
     "text": [
      "--------------------\n",
      "AUTRE\n",
      "moy:\n",
      " 23.433207547169808\n",
      "med:\n",
      " -8.31\n",
      "mod:\n",
      " 0   -1.6\n",
      "Name: montant, dtype: float64\n",
      "var:\n",
      " 40401.82999254183\n",
      "ect:\n",
      " 201.00206464746034\n"
     ]
    },
    {
     "data": {
      "image/png": "[encoded data removed]",
      "text/plain": [
       "<Figure size 640x480 with 1 Axes>"
      ]
     },
     "metadata": {},
     "output_type": "display_data"
    },
    {
     "data": {
      "image/png": "[encoded data removed]",
      "text/plain": [
       "<Figure size 640x480 with 1 Axes>"
      ]
     },
     "metadata": {},
     "output_type": "display_data"
    },
    {
     "name": "stdout",
     "output_type": "stream",
     "text": [
      "--------------------\n",
      "TRANSPORT\n",
      "moy:\n",
      " -52.99714285714286\n",
      "med:\n",
      " -53.1\n",
      "mod:\n",
      " 0   -73.0\n",
      "Name: montant, dtype: float64\n",
      "var:\n",
      " 2205.0168680272113\n",
      "ect:\n",
      " 46.95760713694014\n"
     ]
    },
    {
     "data": {
      "image/png": "[encoded data removed]",
      "text/plain": [
       "<Figure size 640x480 with 1 Axes>"
      ]
     },
     "metadata": {},
     "output_type": "display_data"
    },
    {
     "data": {
      "image/png": "[encoded data removed]",
      "text/plain": [
       "<Figure size 640x480 with 1 Axes>"
      ]
     },
     "metadata": {},
     "output_type": "display_data"
    },
    {
     "name": "stdout",
     "output_type": "stream",
     "text": [
      "--------------------\n",
      "FACTURE TELEPHONE\n",
      "moy:\n",
      " -12.045714285714283\n",
      "med:\n",
      " -7.02\n",
      "mod:\n",
      " 0   -7.02\n",
      "1   -6.38\n",
      "Name: montant, dtype: float64\n",
      "var:\n",
      " 105.01905306122445\n",
      "ect:\n",
      " 10.247880417980317\n"
     ]
    },
    {
     "data": {
      "image/png": "[encoded data removed]",
      "text/plain": [
       "<Figure size 640x480 with 1 Axes>"
      ]
     },
     "metadata": {},
     "output_type": "display_data"
    },
    {
     "data": {
      "image/png": "[encoded data removed]",
      "text/plain": [
       "<Figure size 640x480 with 1 Axes>"
      ]
     },
     "metadata": {},
     "output_type": "display_data"
    },
    {
     "name": "stdout",
     "output_type": "stream",
     "text": [
      "--------------------\n",
      "COURSES\n",
      "moy:\n",
      " -16.34128205128205\n",
      "med:\n",
      " -12.24\n",
      "mod:\n",
      " 0    -60.16\n",
      "1    -42.45\n",
      "2    -42.42\n",
      "3    -33.55\n",
      "4    -32.67\n",
      "5    -29.18\n",
      "6    -28.11\n",
      "7    -27.68\n",
      "8    -26.58\n",
      "9    -26.19\n",
      "10   -23.43\n",
      "11   -22.59\n",
      "12   -21.73\n",
      "13   -20.59\n",
      "14   -18.45\n",
      "15   -17.16\n",
      "16   -13.59\n",
      "17   -12.96\n",
      "18   -12.49\n",
      "19   -12.24\n",
      "20   -10.91\n",
      "21   -10.36\n",
      "22    -9.88\n",
      "23    -9.60\n",
      "24    -9.31\n",
      "25    -9.11\n",
      "26    -6.89\n",
      "27    -6.80\n",
      "28    -6.60\n",
      "29    -5.88\n",
      "30    -4.63\n",
      "31    -4.41\n",
      "32    -4.39\n",
      "33    -3.48\n",
      "34    -2.93\n",
      "35    -2.56\n",
      "36    -2.51\n",
      "37    -1.90\n",
      "38    -0.94\n",
      "Name: montant, dtype: float64\n",
      "var:\n",
      " 177.02535476660088\n",
      "ect:\n",
      " 13.3050875520081\n"
     ]
    },
    {
     "data": {
      "image/png": "[encoded data removed]",
      "text/plain": [
       "<Figure size 640x480 with 1 Axes>"
      ]
     },
     "metadata": {},
     "output_type": "display_data"
    },
    {
     "data": {
      "image/png": "[encoded data removed]",
      "text/plain": [
       "<Figure size 640x480 with 1 Axes>"
      ]
     },
     "metadata": {},
     "output_type": "display_data"
    },
    {
     "name": "stdout",
     "output_type": "stream",
     "text": [
      "--------------------\n",
      "COTISATION BANCAIRE\n",
      "moy:\n",
      " -1.8857142857142857\n",
      "med:\n",
      " -1.92\n",
      "mod:\n",
      " 0   -1.92\n",
      "Name: montant, dtype: float64\n",
      "var:\n",
      " 0.0015673469387755044\n",
      "ect:\n",
      " 0.03958973274443141\n"
     ]
    },
    {
     "data": {
      "image/png": "[encoded data removed]",
      "text/plain": [
       "<Figure size 640x480 with 1 Axes>"
      ]
     },
     "metadata": {},
     "output_type": "display_data"
    },
    {
     "data": {
      "image/png": "[encoded data removed]",
      "text/plain": [
       "<Figure size 640x480 with 1 Axes>"
      ]
     },
     "metadata": {},
     "output_type": "display_data"
    },
    {
     "name": "stdout",
     "output_type": "stream",
     "text": [
      "--------------------\n",
      "RESTAURANT\n",
      "moy:\n",
      " -10.3325\n",
      "med:\n",
      " -10.1\n",
      "mod:\n",
      " 0   -9.2\n",
      "Name: montant, dtype: float64\n",
      "var:\n",
      " 2.8531937500000004\n",
      "ect:\n",
      " 1.689139943876765\n"
     ]
    },
    {
     "data": {
      "image/png": "[encoded data removed]",
      "text/plain": [
       "<Figure size 640x480 with 1 Axes>"
      ]
     },
     "metadata": {},
     "output_type": "display_data"
    },
    {
     "data": {
      "image/png": "[encoded data removed]",
      "text/plain": [
       "<Figure size 640x480 with 1 Axes>"
      ]
     },
     "metadata": {},
     "output_type": "display_data"
    },
    {
     "name": "stdout",
     "output_type": "stream",
     "text": [
      "--------------------\n",
      "LOYER\n",
      "moy:\n",
      " -345.0\n",
      "med:\n",
      " -345.0\n",
      "mod:\n",
      " 0   -345.0\n",
      "Name: montant, dtype: float64\n",
      "var:\n",
      " 0.0\n",
      "ect:\n",
      " 0.0\n"
     ]
    },
    {
     "data": {
      "image/png": "[encoded data removed]",
      "text/plain": [
       "<Figure size 640x480 with 1 Axes>"
      ]
     },
     "metadata": {},
     "output_type": "display_data"
    },
    {
     "data": {
      "image/png": "[encoded data removed]",
      "text/plain": [
       "<Figure size 640x480 with 1 Axes>"
      ]
     },
     "metadata": {},
     "output_type": "display_data"
    }
   ],
   "source": [
    "for cat in data['categ'].unique():\n",
    "    subset = data.loc[data['categ'] == cat, :]\n",
    "    print('-'*20)\n",
    "    print(cat)\n",
    "    print(\"moy:\\n\", subset['montant'].mean())\n",
    "    print(\"med:\\n\", subset['montant'].median())\n",
    "    print(\"mod:\\n\", subset['montant'].mode())\n",
    "    print(\"var:\\n\",subset['montant'].var(ddof=0))\n",
    "    print(\"ect:\\n\",subset['montant'].std(ddof=0))\n",
    "    subset['montant'].hist()\n",
    "    plt.show()\n",
    "    subset.boxplot(column=\"montant\", vert=False)\n",
    "    plt.show()"
   ]
  },
  {
   "cell_type": "markdown",
   "metadata": {},
   "source": [
    "# P3C6 - Appréhendez les mesures de forme"
   ]
  },
  {
   "cell_type": "markdown",
   "metadata": {},
   "source": [
    "## Le Skewness empirique"
   ]
  },
  {
   "cell_type": "markdown",
   "metadata": {},
   "source": [
    "![Alt text](images/image-7.png)"
   ]
  },
  {
   "cell_type": "markdown",
   "metadata": {},
   "source": [
    "Le skewness est une mesure d'asymétrie.<br>\n",
    "L’asymétrie d’une distribution traduit la régularité (ou non) avec laquelle les observations se répartissent autour de la valeur centrale. On interprète cette mesure de cette manière :\n",
    "- Si γ1=0, alors la distribution est symétrique;\n",
    "- Si γ1>0, alors la distribution est étalée à droite;\n",
    "- Si γ1<0, alors la distribution est étalée à gauche."
   ]
  },
  {
   "cell_type": "markdown",
   "metadata": {},
   "source": [
    "![Alt text](images/image-8.png)"
   ]
  },
  {
   "cell_type": "markdown",
   "metadata": {},
   "source": [
    "L'étude de l'asymétrie d'une distribution, c'est chercher qui de la médiane ou de la moyenne est la plus grande. Une distribution est dite symétrique si elle présente la même forme de part et d’autre du centre de la distribution. Dans ce cas : Mode=Med=Moy.<br>\n",
    "Une distribution est étalée à droite (ou oblique à gauche, ou présentant une asymétrie positive) si : Mode<Med<Moy. De même, elle est étalée à gauche (ou oblique à droite) si Mode>Med>Moy\n",
    " ."
   ]
  },
  {
   "cell_type": "code",
   "execution_count": 37,
   "metadata": {},
   "outputs": [
    {
     "data": {
      "text/plain": [
       "3.3618450105098843"
      ]
     },
     "execution_count": 37,
     "metadata": {},
     "output_type": "execute_result"
    }
   ],
   "source": [
    "data['montant'].skew()"
   ]
  },
  {
   "cell_type": "markdown",
   "metadata": {},
   "source": [
    "## Le Kurtosis empirique"
   ]
  },
  {
   "cell_type": "markdown",
   "metadata": {},
   "source": [
    "![Alt text](images/image-9.png)"
   ]
  },
  {
   "cell_type": "markdown",
   "metadata": {},
   "source": [
    "μ3 et μ4 dans les formules du skewness et du kurtosis sont appellé des moments."
   ]
  },
  {
   "cell_type": "markdown",
   "metadata": {},
   "source": [
    "Le kurtosis empirique est une mesure d'aplatissement.<br>\n",
    "L’aplatissement peut s’interpréter à la condition que la distribution soit symétrique. En fait, on compare l'aplatissement par rapport à la distribution la plus célèbre, appelée distribution normale (parfois \"courbe de Gauss\" ou \"Gaussienne\")."
   ]
  },
  {
   "cell_type": "markdown",
   "metadata": {},
   "source": [
    "Il s’interprète comme ceci :\n",
    "- Si γ2=0, alors la distribution a le même aplatissement que la distribution normale;\n",
    "- Si γ2>0, alors elle est moins aplatie que la distribution normale : les observations sont plus concentrées;\n",
    "- Si γ2<0, alors les observations sont moins concentrées : la distribution est plus aplatie."
   ]
  },
  {
   "cell_type": "markdown",
   "metadata": {},
   "source": [
    "![Alt text](images/image-10.png)"
   ]
  },
  {
   "cell_type": "code",
   "execution_count": 38,
   "metadata": {},
   "outputs": [
    {
     "data": {
      "text/plain": [
       "17.2719048282677"
      ]
     },
     "execution_count": 38,
     "metadata": {},
     "output_type": "execute_result"
    }
   ],
   "source": [
    "data['montant'].kurtosis()"
   ]
  },
  {
   "cell_type": "markdown",
   "metadata": {},
   "source": [
    "## Application"
   ]
  },
  {
   "cell_type": "code",
   "execution_count": 39,
   "metadata": {},
   "outputs": [
    {
     "name": "stdout",
     "output_type": "stream",
     "text": [
      "--------------------\n",
      "AUTRE\n",
      "moy:\n",
      " 23.433207547169808\n",
      "med:\n",
      " -8.31\n",
      "mod:\n",
      " 0   -1.6\n",
      "Name: montant, dtype: float64\n",
      "var:\n",
      " 40401.82999254183\n",
      "ect:\n",
      " 201.00206464746034\n",
      "skw:\n",
      " 3.1215325222336423\n",
      "kur:\n",
      " 12.716537970826295\n"
     ]
    },
    {
     "data": {
      "image/png": "[encoded data removed]",
      "text/plain": [
       "<Figure size 640x480 with 1 Axes>"
      ]
     },
     "metadata": {},
     "output_type": "display_data"
    },
    {
     "data": {
      "image/png": "[encoded data removed]",
      "text/plain": [
       "<Figure size 640x480 with 1 Axes>"
      ]
     },
     "metadata": {},
     "output_type": "display_data"
    },
    {
     "name": "stdout",
     "output_type": "stream",
     "text": [
      "--------------------\n",
      "TRANSPORT\n",
      "moy:\n",
      " -52.99714285714286\n",
      "med:\n",
      " -53.1\n",
      "mod:\n",
      " 0   -73.0\n",
      "Name: montant, dtype: float64\n",
      "var:\n",
      " 2205.0168680272113\n",
      "ect:\n",
      " 46.95760713694014\n",
      "skw:\n",
      " -1.248265076217821\n",
      "kur:\n",
      " 2.1922705326917495\n"
     ]
    },
    {
     "data": {
      "image/png": "[encoded data removed]",
      "text/plain": [
       "<Figure size 640x480 with 1 Axes>"
      ]
     },
     "metadata": {},
     "output_type": "display_data"
    },
    {
     "data": {
      "image/png": "[encoded data removed]",
      "text/plain": [
       "<Figure size 640x480 with 1 Axes>"
      ]
     },
     "metadata": {},
     "output_type": "display_data"
    },
    {
     "name": "stdout",
     "output_type": "stream",
     "text": [
      "--------------------\n",
      "FACTURE TELEPHONE\n",
      "moy:\n",
      " -12.045714285714283\n",
      "med:\n",
      " -7.02\n",
      "mod:\n",
      " 0   -7.02\n",
      "1   -6.38\n",
      "Name: montant, dtype: float64\n",
      "var:\n",
      " 105.01905306122445\n",
      "ect:\n",
      " 10.247880417980317\n",
      "skw:\n",
      " -2.3876514564281526\n",
      "kur:\n",
      " 5.798563367885492\n"
     ]
    },
    {
     "data": {
      "image/png": "[encoded data removed]",
      "text/plain": [
       "<Figure size 640x480 with 1 Axes>"
      ]
     },
     "metadata": {},
     "output_type": "display_data"
    },
    {
     "data": {
      "image/png": "[encoded data removed]",
      "text/plain": [
       "<Figure size 640x480 with 1 Axes>"
      ]
     },
     "metadata": {},
     "output_type": "display_data"
    },
    {
     "name": "stdout",
     "output_type": "stream",
     "text": [
      "--------------------\n",
      "COURSES\n",
      "moy:\n",
      " -16.34128205128205\n",
      "med:\n",
      " -12.24\n",
      "mod:\n",
      " 0    -60.16\n",
      "1    -42.45\n",
      "2    -42.42\n",
      "3    -33.55\n",
      "4    -32.67\n",
      "5    -29.18\n",
      "6    -28.11\n",
      "7    -27.68\n",
      "8    -26.58\n",
      "9    -26.19\n",
      "10   -23.43\n",
      "11   -22.59\n",
      "12   -21.73\n",
      "13   -20.59\n",
      "14   -18.45\n",
      "15   -17.16\n",
      "16   -13.59\n",
      "17   -12.96\n",
      "18   -12.49\n",
      "19   -12.24\n",
      "20   -10.91\n",
      "21   -10.36\n",
      "22    -9.88\n",
      "23    -9.60\n",
      "24    -9.31\n",
      "25    -9.11\n",
      "26    -6.89\n",
      "27    -6.80\n",
      "28    -6.60\n",
      "29    -5.88\n",
      "30    -4.63\n",
      "31    -4.41\n",
      "32    -4.39\n",
      "33    -3.48\n",
      "34    -2.93\n",
      "35    -2.56\n",
      "36    -2.51\n",
      "37    -1.90\n",
      "38    -0.94\n",
      "Name: montant, dtype: float64\n",
      "var:\n",
      " 177.02535476660088\n",
      "ect:\n",
      " 13.3050875520081\n",
      "skw:\n",
      " -1.2467488306456982\n",
      "kur:\n",
      " 1.6047304940874998\n"
     ]
    },
    {
     "data": {
      "image/png": "[encoded data removed]",
      "text/plain": [
       "<Figure size 640x480 with 1 Axes>"
      ]
     },
     "metadata": {},
     "output_type": "display_data"
    },
    {
     "data": {
      "image/png": "[encoded data removed]",
      "text/plain": [
       "<Figure size 640x480 with 1 Axes>"
      ]
     },
     "metadata": {},
     "output_type": "display_data"
    },
    {
     "name": "stdout",
     "output_type": "stream",
     "text": [
      "--------------------\n",
      "COTISATION BANCAIRE\n",
      "moy:\n",
      " -1.8857142857142857\n",
      "med:\n",
      " -1.92\n",
      "mod:\n",
      " 0   -1.92\n",
      "Name: montant, dtype: float64\n",
      "var:\n",
      " 0.0015673469387755044\n",
      "ect:\n",
      " 0.03958973274443141\n",
      "skw:\n",
      " 0.37416573867739106\n",
      "kur:\n",
      " -2.800000000000003\n"
     ]
    },
    {
     "data": {
      "image/png": "[encoded data removed]",
      "text/plain": [
       "<Figure size 640x480 with 1 Axes>"
      ]
     },
     "metadata": {},
     "output_type": "display_data"
    },
    {
     "data": {
      "image/png": "[encoded data removed]",
      "text/plain": [
       "<Figure size 640x480 with 1 Axes>"
      ]
     },
     "metadata": {},
     "output_type": "display_data"
    },
    {
     "name": "stdout",
     "output_type": "stream",
     "text": [
      "--------------------\n",
      "RESTAURANT\n",
      "moy:\n",
      " -10.3325\n",
      "med:\n",
      " -10.1\n",
      "mod:\n",
      " 0   -9.2\n",
      "Name: montant, dtype: float64\n",
      "var:\n",
      " 2.8531937500000004\n",
      "ect:\n",
      " 1.689139943876765\n",
      "skw:\n",
      " -0.8883503487158837\n",
      "kur:\n",
      " 0.5988855591691937\n"
     ]
    },
    {
     "data": {
      "image/png": "[encoded data removed]",
      "text/plain": [
       "<Figure size 640x480 with 1 Axes>"
      ]
     },
     "metadata": {},
     "output_type": "display_data"
    },
    {
     "data": {
      "image/png": "[encoded data removed]",
      "text/plain": [
       "<Figure size 640x480 with 1 Axes>"
      ]
     },
     "metadata": {},
     "output_type": "display_data"
    },
    {
     "name": "stdout",
     "output_type": "stream",
     "text": [
      "--------------------\n",
      "LOYER\n",
      "moy:\n",
      " -345.0\n",
      "med:\n",
      " -345.0\n",
      "mod:\n",
      " 0   -345.0\n",
      "Name: montant, dtype: float64\n",
      "var:\n",
      " 0.0\n",
      "ect:\n",
      " 0.0\n",
      "skw:\n",
      " 0\n",
      "kur:\n",
      " 0\n"
     ]
    },
    {
     "data": {
      "image/png": "[encoded data removed]",
      "text/plain": [
       "<Figure size 640x480 with 1 Axes>"
      ]
     },
     "metadata": {},
     "output_type": "display_data"
    },
    {
     "data": {
      "image/png": "[encoded data removed]",
      "text/plain": [
       "<Figure size 640x480 with 1 Axes>"
      ]
     },
     "metadata": {},
     "output_type": "display_data"
    }
   ],
   "source": [
    "for cat in data[\"categ\"].unique():\n",
    "    subset = data[data.categ == cat]\n",
    "    print(\"-\"*20)\n",
    "    print(cat)\n",
    "    print(\"moy:\\n\",subset['montant'].mean())\n",
    "    print(\"med:\\n\",subset['montant'].median())\n",
    "    print(\"mod:\\n\",subset['montant'].mode())\n",
    "    print(\"var:\\n\",subset['montant'].var(ddof=0))\n",
    "    print(\"ect:\\n\",subset['montant'].std(ddof=0))\n",
    "    print(\"skw:\\n\",subset['montant'].skew())\n",
    "    print(\"kur:\\n\",subset['montant'].kurtosis())\n",
    "    subset[\"montant\"].hist()\n",
    "    plt.show()\n",
    "    subset.boxplot(column=\"montant\", vert=False)\n",
    "    plt.show()"
   ]
  },
  {
   "cell_type": "markdown",
   "metadata": {},
   "source": [
    "# P3C7 - Familiarisez-vous avec les mesures de concentration"
   ]
  },
  {
   "cell_type": "markdown",
   "metadata": {},
   "source": [
    "## Courbe de Lorenz"
   ]
  },
  {
   "cell_type": "markdown",
   "metadata": {},
   "source": [
    "Pour illustrer la courbe de Lorenz, imaginons la population d'un pays. Concentrons-nous sur les personnes qui ont des revenus.\n",
    "\n",
    "Il faut vous imaginer la courbe de Lorenz comme un podium avec autant de places que de gens. Ce podium ressemble à un escalier, sur lequel on place l'individu qui gagne le plus d'argent tout en haut, et celui qui gagne le moins d'argent tout en bas.\n",
    "\n",
    "Seulement, cet escalier n'est pas régulier : la hauteur d'une marche donnée, par rapport à la marche précédente, correspond au revenu de l'individu placé sur cette marche. Ainsi, quelqu'un qui gagne beaucoup d'argent sera placé sur une marche très haute par rapport à celle de la personne en dessous de lui.\n",
    "\n",
    "La courbe de Lorenz représente cet escalier, la hauteur et la longueur sont ramenées à 1."
   ]
  },
  {
   "cell_type": "markdown",
   "metadata": {},
   "source": [
    "![Alt text](images/image-11.png)"
   ]
  },
  {
   "cell_type": "markdown",
   "metadata": {},
   "source": [
    "Dans le cas où la répartition est la plus égalitaire possible, les marches sont réguliéres et toutes les personnes sont alignées sur une droite appellée \"première bissectrice (passe par les point (0,0) et (1,1))."
   ]
  },
  {
   "cell_type": "markdown",
   "metadata": {},
   "source": [
    "![Alt text](images/image-12.png)"
   ]
  },
  {
   "cell_type": "markdown",
   "metadata": {},
   "source": [
    "Dans le cas extrême inverse ou la répartition est la plus inégalitaire possible, la courbe de Lorenz ne suit plus la première bissectrice mais s'en éloigne au maximum."
   ]
  },
  {
   "cell_type": "markdown",
   "metadata": {},
   "source": [
    "![Alt text](images/image-13.png)"
   ]
  },
  {
   "cell_type": "markdown",
   "metadata": {},
   "source": [
    "Donc plus la courbe de Lorenz est proche de la première bissectrice, plus la répartition est égalitaire."
   ]
  },
  {
   "cell_type": "code",
   "execution_count": 40,
   "metadata": {},
   "outputs": [
    {
     "data": {
      "image/png": "[encoded data removed]",
      "text/plain": [
       "<Figure size 640x480 with 1 Axes>"
      ]
     },
     "metadata": {},
     "output_type": "display_data"
    }
   ],
   "source": [
    "depenses = data[data['montant'] < 0]\n",
    "dep = -depenses['montant'].values\n",
    "n = len(dep)\n",
    "lorenz = np.cumsum(np.sort(dep)) / dep.sum()\n",
    "lorenz = np.append([0], lorenz)\n",
    "\n",
    "xaxis = np.linspace(0-1/n, 1+1/n, n+1)\n",
    "plt.plot(xaxis, lorenz, drawstyle='steps-post')\n",
    "plt.show()"
   ]
  },
  {
   "cell_type": "markdown",
   "metadata": {},
   "source": [
    "## Médiale et médiane"
   ]
  },
  {
   "cell_type": "markdown",
   "metadata": {},
   "source": [
    "Dans notre cas le salaire médial, c'est simplement le salaire de la personne qui se trouve à la moitié de la hauteur : 0,5.<br>\n",
    "La médiale est la valeur médiane de la distribution de la variable (et non de l'effectif), elle correspond à l'ordonnée 0.5 de la courbe de Lorenz."
   ]
  },
  {
   "cell_type": "markdown",
   "metadata": {},
   "source": [
    "L'individu possédant la valeur médiane est repéré par le point d'absice 0.5."
   ]
  },
  {
   "cell_type": "markdown",
   "metadata": {},
   "source": [
    "## Indice de Gini"
   ]
  },
  {
   "cell_type": "markdown",
   "metadata": {},
   "source": [
    "L'indice de Gini permet de résumer la courbe de Lorenz. Il mesure l'aire présente entre la première bissectrice et la courbe de Lorenz."
   ]
  },
  {
   "cell_type": "markdown",
   "metadata": {},
   "source": [
    "![Alt text](images/image-14.png)"
   ]
  },
  {
   "cell_type": "markdown",
   "metadata": {},
   "source": [
    "![Alt text](images/image-15.png)"
   ]
  },
  {
   "cell_type": "markdown",
   "metadata": {},
   "source": [
    "Plus la distribution du revenu est concentrée, plus la fraction la plus riche de la population reçoit une grande partie des revenus, et plus la fraction la plus pauvre reçoit une petite partie des revenus.<br>\n",
    "À l'inverse, dans une distribution du revenu parfaitement égalitaire, 10 % de la population reçoit exactement 10 % des revenus totaux."
   ]
  },
  {
   "cell_type": "code",
   "execution_count": 41,
   "metadata": {},
   "outputs": [
    {
     "data": {
      "text/plain": [
       "0.7204386813739185"
      ]
     },
     "execution_count": 41,
     "metadata": {},
     "output_type": "execute_result"
    }
   ],
   "source": [
    "# Surface sous la courbe de Lorenz.\n",
    "# Le premier segment (lorenz[0]) est à moitié en dessous de 0, on le coupe donc en 2, on fait de même pour le dernier segment lorenz[-1] qui est à moitié au dessus de 1.\n",
    "AUC = (lorenz.sum() - lorenz[-1] / 2 - lorenz[0] / 2) / n\n",
    "\n",
    "# Surface entre la première bissectrice et la courbe de Lorenz\n",
    "S = 0.5 - AUC\n",
    "\n",
    "gini = 2 * S\n",
    "gini"
   ]
  },
  {
   "cell_type": "markdown",
   "metadata": {},
   "source": [
    "# P4C3 - Analysez la corrélation entre deux variables quantitatives"
   ]
  },
  {
   "cell_type": "markdown",
   "metadata": {},
   "source": [
    "Êtes-vous moins dépensier lorsque vous avez peu d'argent sur votre compte ?"
   ]
  },
  {
   "cell_type": "markdown",
   "metadata": {},
   "source": [
    "## Diagramme de dispersion"
   ]
  },
  {
   "cell_type": "code",
   "execution_count": 42,
   "metadata": {},
   "outputs": [
    {
     "data": {
      "image/png": "[encoded data removed]",
      "text/plain": [
       "<Figure size 640x480 with 1 Axes>"
      ]
     },
     "metadata": {},
     "output_type": "display_data"
    }
   ],
   "source": [
    "depenses = data[data.montant < 0]\n",
    "plt.plot(depenses[\"solde_avt_ope\"],-depenses[\"montant\"],'o')\n",
    "plt.xlabel(\"solde avant opération\")\n",
    "plt.ylabel(\"montant de dépense\")\n",
    "plt.show()"
   ]
  },
  {
   "cell_type": "markdown",
   "metadata": {},
   "source": [
    "Ce diagramme n'est pas adapté."
   ]
  },
  {
   "cell_type": "markdown",
   "metadata": {},
   "source": [
    "## Alternative au diagramme de dispersion"
   ]
  },
  {
   "cell_type": "markdown",
   "metadata": {},
   "source": [
    "il est possible d'agréger la variable X en abscisse (axe horizontal) en différentes classes. Cela équivaut à \"découper\" au couteau le graphique précédent en tranches verticales.<br>\n",
    "On représente ensuite pour chaque tranche une boîte à moustaches calculée à partir de tous les points présents dans la tranche."
   ]
  },
  {
   "cell_type": "markdown",
   "metadata": {},
   "source": [
    "![Alt text](images/image-16.png)"
   ]
  },
  {
   "cell_type": "markdown",
   "metadata": {},
   "source": [
    "Sur ce graphique, on ne peut pas vraiment dire que plus le solde est petit, plus le montant est petit, même si les boîtes à moustaches des tranches [2000;2500[ et [2500;3000[ semblent légèrement moins dispersées vers le haut.<br>\n",
    "La boîte à moustaches la plus à gauche est très dispersée : cela peut sembler étonnant, mais elle n'est en fait pas très représentative car elle ne représente que 4 individus sur une population qui en contient presque 300.<br>\n",
    "On remarque qu'il est donc important d'afficher les effectifs de chaque classe (n=4, n=14, n=19, etc.)."
   ]
  },
  {
   "cell_type": "code",
   "execution_count": 43,
   "metadata": {},
   "outputs": [
    {
     "data": {
      "image/png": "[encoded data removed]",
      "text/plain": [
       "<Figure size 1000x700 with 1 Axes>"
      ]
     },
     "metadata": {},
     "output_type": "display_data"
    }
   ],
   "source": [
    "taille_classe = 500 # taille des classes pour la discrétisation\n",
    "\n",
    "groupes = [] # va recevoir les données agrégées à afficher\n",
    "\n",
    "# on calcule des tranches allant de 0 au solde maximum par paliers de taille taille_classe\n",
    "tranches = np.arange(0, max(depenses[\"solde_avt_ope\"]), taille_classe)\n",
    "tranches += taille_classe/2 # on décale les tranches d'une demi taille de classe\n",
    "indices = np.digitize(depenses[\"solde_avt_ope\"], tranches) # associe chaque solde à son numéro de classe\n",
    "\n",
    "for ind, tr in enumerate(tranches): # pour chaque tranche, ind reçoit le numéro de tranche et tr la tranche en question\n",
    "    montants = -depenses.loc[indices==ind,\"montant\"] # sélection des individus de la tranche ind\n",
    "    if len(montants) > 0:\n",
    "        g = {\n",
    "            'valeurs': montants,\n",
    "            'centre_classe': tr-(taille_classe/2),\n",
    "            'taille': len(montants),\n",
    "            'quartiles': [np.percentile(montants,p) for p in [25,50,75]]\n",
    "        }\n",
    "        groupes.append(g)\n",
    "\n",
    "plt.figure(figsize=(10,7))\n",
    "        \n",
    "# affichage des boxplots\n",
    "plt.boxplot([g[\"valeurs\"] for g in groupes],\n",
    "            positions= [g[\"centre_classe\"] for g in groupes], # abscisses des boxplots\n",
    "            showfliers= False, # on ne prend pas en compte les outliers\n",
    "            widths= taille_classe*0.7) # largeur graphique des boxplots\n",
    "\n",
    "# affichage des effectifs de chaque classe\n",
    "for g in groupes:\n",
    "    plt.text(g[\"centre_classe\"],0,\"(n={})\".format(g[\"taille\"]),horizontalalignment='center',verticalalignment='top')     \n",
    "plt.show()"
   ]
  },
  {
   "cell_type": "markdown",
   "metadata": {},
   "source": [
    "## Covariance empirique"
   ]
  },
  {
   "cell_type": "markdown",
   "metadata": {},
   "source": [
    "![Alt text](images/image-17.png)"
   ]
  },
  {
   "cell_type": "markdown",
   "metadata": {},
   "source": [
    "Si x est petit quand y est petit (et inversement), alors sX,Y sera positif.<br>\n",
    "Si X et Y ne sont au contraire pas corrélés, sX,Y sera plutôt proche de 0.<br>\n",
    "Si x est grand quand y est petit (et inversement), alors sX,Y sera négatif. Dans ce dernier cas, on dit que c'est une corrélation négative."
   ]
  },
  {
   "cell_type": "markdown",
   "metadata": {},
   "source": [
    "Voici deux propriétés de la covariance empirique :\n",
    "- Symétrie\n",
    "    - s(X,Y) = s(Y,X)\n",
    "- Bilinéarité\n",
    "    - Si on crée une nouvelle variable Z à partir de 2 variables U et V dont on connaît la covariance empirique, et que Z=aU+bV, alors s(X,Z)=as(X,U)+bs(X,V)."
   ]
  },
  {
   "cell_type": "code",
   "execution_count": 44,
   "metadata": {},
   "outputs": [
    {
     "name": "stdout",
     "output_type": "stream",
     "text": [
      "484.95954154532774\n"
     ]
    }
   ],
   "source": [
    "print(np.cov(depenses[\"solde_avt_ope\"],-depenses[\"montant\"],ddof=0)[1,0])"
   ]
  },
  {
   "cell_type": "markdown",
   "metadata": {},
   "source": [
    "La méthode  np.cov  renvoie la matrice de covariance. Cette matrice est en fait un tableau, et dans ce dernier, c'est la valeur située sur la 2e ligne à la 1e colonne, d'où le  [1,0]."
   ]
  },
  {
   "cell_type": "markdown",
   "metadata": {},
   "source": [
    "## Coefficient de corélation"
   ]
  },
  {
   "cell_type": "markdown",
   "metadata": {},
   "source": [
    "![Alt text](images/image-18.png)"
   ]
  },
  {
   "cell_type": "markdown",
   "metadata": {},
   "source": [
    "Ce coefficient r est appelé coefficient de corrélation, ou coefficient de corrélation linéaire, ou encore coefficient de corrélation de Pearson.\n",
    "\n",
    "\"linéaire\" car il ne détecte les relations que lorsqu'elles sont linéaires, c'est-à-dire lorsque les points sont plutôt bien alignés sur une ligne droite.<br>\n",
    "Sur les graphique ci-dessous :\n",
    "- les deux premiers montrent des points bien alignés : leur r est donc proche de 1 ou de -1.\n",
    "- Sur le 4e graphique en revanche, il n'y a pas vraiment de corrélation (connaître la valeur du x d'un point ne nous donne aucune indication sur la valeur de y ) : r est donc proche de 0.\n",
    "- Cependant sur le 3e graphique, il y a une forte corrélation, mais sa forme n'est pas linéaire, et r est donc malheureusement proche de 0."
   ]
  },
  {
   "cell_type": "markdown",
   "metadata": {},
   "source": [
    "![Alt text](images/image-19.png)"
   ]
  },
  {
   "cell_type": "code",
   "execution_count": 45,
   "metadata": {},
   "outputs": [
    {
     "name": "stdout",
     "output_type": "stream",
     "text": [
      "0.010068819133759194\n"
     ]
    }
   ],
   "source": [
    "print(st.pearsonr(depenses[\"solde_avt_ope\"],-depenses[\"montant\"])[0])"
   ]
  },
  {
   "cell_type": "markdown",
   "metadata": {},
   "source": [
    "Le coefficient de corrélation linéaire se calcule grâce à la méthode  st.pearsonr. On lui donne ensuite les 2 variables à étudier.<br>\n",
    "Un couple de valeurs est renvoyé, le coefficient de corrélation est la premier élément de ce couple, d'où le  [0]  à la fin de la ligne 4."
   ]
  },
  {
   "cell_type": "markdown",
   "metadata": {},
   "source": [
    "# P4C4 - Analysez 2 variables quantitatives par régression linéaire"
   ]
  },
  {
   "cell_type": "markdown",
   "metadata": {},
   "source": [
    "Nous allons étudier 2 variables : attente et montant.\n",
    "\n",
    "La variable attente d’une opération donne le nombre de jours écoulés entre celle-ci et la précédente opération de catégorie COURSES.\n",
    "\n",
    "En théorie, plus vous attendez pour aller faire les courses, plus vous aurez besoin d’acheter de provisions. On s’attend donc à ce que plus la valeur de attente est grande, plus la valeur du montant soit grande."
   ]
  },
  {
   "cell_type": "markdown",
   "metadata": {},
   "source": [
    "![image.png](images/image-20.png)"
   ]
  },
  {
   "cell_type": "markdown",
   "metadata": {},
   "source": [
    "## Calcul de la variable \"attente\""
   ]
  },
  {
   "cell_type": "code",
   "execution_count": 48,
   "metadata": {},
   "outputs": [
    {
     "data": {
      "text/html": [
       "<div>\n",
       "<style scoped>\n",
       "    .dataframe tbody tr th:only-of-type {\n",
       "        vertical-align: middle;\n",
       "    }\n",
       "\n",
       "    .dataframe tbody tr th {\n",
       "        vertical-align: top;\n",
       "    }\n",
       "\n",
       "    .dataframe thead th {\n",
       "        text-align: right;\n",
       "    }\n",
       "</style>\n",
       "<table border=\"1\" class=\"dataframe\">\n",
       "  <thead>\n",
       "    <tr style=\"text-align: right;\">\n",
       "      <th></th>\n",
       "      <th>montant</th>\n",
       "      <th>attente</th>\n",
       "    </tr>\n",
       "    <tr>\n",
       "      <th>date_operation</th>\n",
       "      <th></th>\n",
       "      <th></th>\n",
       "    </tr>\n",
       "  </thead>\n",
       "  <tbody>\n",
       "    <tr>\n",
       "      <th>2023-04-10</th>\n",
       "      <td>42.42</td>\n",
       "      <td>5</td>\n",
       "    </tr>\n",
       "    <tr>\n",
       "      <th>2023-04-25</th>\n",
       "      <td>32.67</td>\n",
       "      <td>15</td>\n",
       "    </tr>\n",
       "    <tr>\n",
       "      <th>2023-04-26</th>\n",
       "      <td>1.90</td>\n",
       "      <td>1</td>\n",
       "    </tr>\n",
       "    <tr>\n",
       "      <th>2023-04-28</th>\n",
       "      <td>9.11</td>\n",
       "      <td>2</td>\n",
       "    </tr>\n",
       "    <tr>\n",
       "      <th>2023-05-02</th>\n",
       "      <td>12.24</td>\n",
       "      <td>4</td>\n",
       "    </tr>\n",
       "  </tbody>\n",
       "</table>\n",
       "</div>"
      ],
      "text/plain": [
       "                montant  attente\n",
       "date_operation                  \n",
       "2023-04-10        42.42        5\n",
       "2023-04-25        32.67       15\n",
       "2023-04-26         1.90        1\n",
       "2023-04-28         9.11        2\n",
       "2023-05-02        12.24        4"
      ]
     },
     "execution_count": 48,
     "metadata": {},
     "output_type": "execute_result"
    }
   ],
   "source": [
    "# Selection du sous-échantillon\n",
    "courses = data.loc[data.categ == \"COURSES\", :]\n",
    "\n",
    "# On trie les opérations par date\n",
    "courses = courses.sort_values(\"date_operation\")\n",
    "\n",
    "# On ramène les montants en positif\n",
    "courses[\"montant\"] = -courses[\"montant\"]\n",
    "\n",
    "# calcul de la variable attente\n",
    "r = []\n",
    "last_date = dt.datetime.now()\n",
    "for i,row in courses.iterrows():\n",
    "    days = (row[\"date_operation\"]-last_date).days\n",
    "    if days == 0:\n",
    "        r.append(r[-1])\n",
    "    else:\n",
    "        r.append(days)\n",
    "    last_date = row[\"date_operation\"]\n",
    "courses[\"attente\"] = r\n",
    "courses = courses.iloc[1:,]\n",
    "\n",
    "# on regroupe les opérations qui ont été effectués à la même date\n",
    "# (courses réalisées le même jour mais dans 2 magasins différents)\n",
    "a = courses.groupby(\"date_operation\")[\"montant\"].sum()\n",
    "b = courses.groupby(\"date_operation\")[\"attente\"].first()\n",
    "courses = pd.DataFrame({\"montant\":a, \"attente\":b})\n",
    "courses.head()"
   ]
  },
  {
   "cell_type": "markdown",
   "metadata": {},
   "source": [
    "## Modélisation"
   ]
  },
  {
   "cell_type": "markdown",
   "metadata": {},
   "source": [
    "Supposons :\n",
    "- qu’à chaque fois que vous faites les courses, vous achetez 3 types de produits :\n",
    "    - Les produits que vous consommerez avant la prochaine fois que vous irez faire les courses (produits alimentaires, d’hygiène, etc.).\n",
    "    - Les produits qui ne seront pas consommés durant la durée de l’étude (la durée de l’étude étant la période entre votre 1er ticket de caisse enregistré dans l’échantillon et le dernier) : ce sont vos stocks de long terme (boîtes de conserves, produits surgelés, etc.).\n",
    "    - Les produits qui ne sont pas des consommables (ex. : une fourchette, une serpillière, etc.), que vous n’achetez que très rarement.\n",
    "- que vous consommez chaque jour des produits, et que le prix des produits que vous consommez en 1 jour est à peu près constant.\n",
    "\n",
    "Appelons :\n",
    "- a le prix moyen des produits consommés en un jour (ceux de type 1);\n",
    "- b le prix moyen des produits de types 2 et 3 rassemblés, que vous achetez à chaque course;\n",
    "- x le nombre de jours que vous avez attendu depuis vos dernières courses;\n",
    "- y le montant du ticket de caisse.\n",
    "\n",
    "Le prix de votre prochain ticket de caisse sera égal au nombre de jours d’attente multiplié par le prix moyen ce que vous consommez en 1 jour plus le prix moyen des produits de types 2 et 3:\n",
    "- y=a.x+b\n",
    "\n",
    "Il s'agit d'une équation d'une droite ce qui signifie que si je prends tous les x possibles compris entre (par exemple) 0 et 5, puis que je calcule tous leurs y  associés, avant de les placer sur un graphique avec les x  sur l'axe horizontal et les y  sur l'axe vertical, alors tous les points seront parfaitement alignés.\n",
    "\n",
    "Essayons donc d'afficher le diagramme de dispersion avec X = attente et Y = montant, et regardons si tous les points sont alignés :"
   ]
  },
  {
   "cell_type": "code",
   "execution_count": 53,
   "metadata": {},
   "outputs": [
    {
     "data": {
      "image/png": "[encoded data removed]",
      "text/plain": [
       "<Figure size 640x480 with 1 Axes>"
      ]
     },
     "metadata": {},
     "output_type": "display_data"
    }
   ],
   "source": [
    "plt.plot(courses['attente'],courses['montant'], \"o\")\n",
    "plt.xlabel(\"attente\")\n",
    "plt.ylabel(\"montant\")\n",
    "plt.show()"
   ]
  },
  {
   "cell_type": "markdown",
   "metadata": {},
   "source": [
    "Les points ne sont pas alignés. Cela signifie que l'équation y=a.x+b n'est pas tout à fait exacte : elle est simpliste.\n",
    "En écrivant cette équation, j’admets que je commettrai une certaine erreur entre la valeur que j'aurai prédite et la vraie valeur du prochain ticket.\n",
    "\n",
    "Mais je peux intégrer cette erreur à l'équation, en l'appelant ϵ(epsilon) :"
   ]
  },
  {
   "cell_type": "markdown",
   "metadata": {},
   "source": [
    "![image.png](images/image-21.png)"
   ]
  },
  {
   "cell_type": "markdown",
   "metadata": {},
   "source": [
    "Ce modéle s'appelle la régression linéaire.\n",
    "\n",
    "Pour calculer  a et b on cherche à minimiser l'erreur.\n",
    "Graphiquement, voici comment on peut se représenter les choses. Si je fais varier a et b, alors je déplace la droite sur le graphique. Minimiser l'erreur revient en fait à placer la droite dans l'alignement général des points. Voici une illustration très pédagogique, car les points sont presque dans le même alignement :"
   ]
  },
  {
   "cell_type": "markdown",
   "metadata": {},
   "source": [
    "![Alt text](images/image-22.png)"
   ]
  },
  {
   "cell_type": "markdown",
   "metadata": {},
   "source": [
    "On y voit que pour un point i, on cherche à ce que la différence entre le yi (qui est la vraie valeur) et le y^i (qui est la valeur prédite par mon équation inexacte y^i=a.xi+b) soit minimale.\n",
    "\n",
    "Il existe plusieurs manières de minimiser une erreur. La plus utilisée est celle qui minimise la somme des carrés de l'erreur yi−y^i. On l'appelle méthode des moindres carrés ordinaire (MCO)."
   ]
  },
  {
   "cell_type": "markdown",
   "metadata": {},
   "source": [
    "## Estimation des coefficients a et b"
   ]
  },
  {
   "cell_type": "markdown",
   "metadata": {},
   "source": [
    "Voici les formules qui permettent d'estimer a et b :"
   ]
  },
  {
   "cell_type": "markdown",
   "metadata": {},
   "source": [
    "![Alt text](images/image-23.png)"
   ]
  },
  {
   "cell_type": "markdown",
   "metadata": {},
   "source": [
    "le \"^\" signifie que c'est une estimation.\n",
    "On considère que l'on ne peut pas avoir accès directement à vos comportements de consommation caractérisés par a et b, mais que l'on peut tout de même les estimer grâce à vos tickets de caisse. Ces estimations de a et de b sont notées a^ et b^.\n",
    "Si on rajoute à l'échantillon un nouveau ticket de caisse, celui-ci fera varier un peu a^ et b^, même si votre comportement de consommation ne bouge pas (c'est-à-dire \"même si a et b ne bougent pas\")."
   ]
  },
  {
   "cell_type": "code",
   "execution_count": 55,
   "metadata": {},
   "outputs": [
    {
     "name": "stdout",
     "output_type": "stream",
     "text": [
      "1.7365779467680615\n",
      "10.944847908745249\n"
     ]
    }
   ],
   "source": [
    "Y = courses['montant']\n",
    "X = courses[['attente']]\n",
    "X = X.copy() # On modifiera X, on en crée donc une copie\n",
    "X['intercept'] = 1.\n",
    "result = sm.OLS(Y, X).fit() # OLS = Ordinary Least Square (Moindres Carrés Ordinaire)\n",
    "a,b = result.params['attente'],result.params['intercept']\n",
    "print(a)\n",
    "print(b)"
   ]
  },
  {
   "cell_type": "markdown",
   "metadata": {},
   "source": [
    "pourquoi les double crochets ligne 2 ?\n",
    "\n",
    "Une régression linéaire prédit une variable en fonction d'une ou plusieurs variables.  sm.OLS  s'attend donc à trouver une unique colonne (c.-à-d. un  pd.Series  ) en premier argument (ici Y), mais s'attend à trouver potentiellement plusieurs colonnes en 2nd argument (ici X, qui est un  pd.DataFrame  ). Pour sélectionner plusieurs colonnes d'un dataframe, on passe une liste de noms de colonnes. Et comme une liste s'écrit entre crochets, ceux-ci viennent s'ajouter aux crochets déjà présents."
   ]
  },
  {
   "cell_type": "code",
   "execution_count": 56,
   "metadata": {},
   "outputs": [
    {
     "data": {
      "image/png": "[encoded data removed]",
      "text/plain": [
       "<Figure size 640x480 with 1 Axes>"
      ]
     },
     "metadata": {},
     "output_type": "display_data"
    }
   ],
   "source": [
    "plt.plot(courses.attente,courses.montant, \"o\")\n",
    "plt.plot(np.arange(15),[a*x+b for x in np.arange(15)])\n",
    "plt.xlabel(\"attente\")\n",
    "plt.ylabel(\"montant\")\n",
    "plt.show()"
   ]
  },
  {
   "cell_type": "markdown",
   "metadata": {},
   "source": [
    "## Analysez la qualité du modéle"
   ]
  },
  {
   "cell_type": "markdown",
   "metadata": {},
   "source": [
    "Nous avons fait la supposition qu'il existait un lien linéaire entre attente et montant, c'est-à-dire un lien de type y=ax+b. Mais cette supposition est-elle réaliste ?\n",
    "\n",
    "Après avoir appliqué un modèle, il faut toujours analyser sa qualité.\n",
    "\n",
    "Imaginons que j'aie effacé par erreur le montant d'une opération bancaire de catégorie COURSES.\n",
    "\n",
    "Je pourrais combler cette valeur manquante par la moyenne des montants des opérations. C'est la solution la plus basique qui soit, et elle n'est pas très bonne car autour de la moyenne, les valeurs des montants varient, parfois de beaucoup.\n",
    "\n",
    "Je peux regarder la valeur de la variable attente de cette opération. Avec le modèle de régression linéaire que j'ai construit, je peux estimer la valeur du montant. Cette estimation sera meilleure que la précédente car nous avons cherché à minimiser l'erreur de modèle. Nous avons en fait cherché à minimiser les variations des valeurs de montant autour de la droite de régression.\n",
    "\n",
    "Les variations autour de la moyenne sont donc plus grandes que les variations autour de la droite de régression.\n",
    "\n",
    "Si on avait trouvé un modèle parfait, alors il n'y aurait plus d'erreur, et donc plus de variations entre les valeurs prédites et les valeurs réelles. Dans ce cas, on dirait que le modèle a réussi à expliquer la totalité des variations. Les variations autour de la moyenne sont mesurées par la variance.\n",
    "\n",
    "Un modèle parfait aurait expliqué 100 % de la variation.\n",
    "\n",
    "Ce pourcentage est calculé grâce à la formule de décomposition de la variance (analysis of variance, en anglais : ANOVA)."
   ]
  },
  {
   "cell_type": "markdown",
   "metadata": {},
   "source": [
    "![Alt text](images/image-24.png)"
   ]
  },
  {
   "cell_type": "markdown",
   "metadata": {},
   "source": [
    "SCT (somme des carrés totale) traduit la variation totale de Y.<br>\n",
    "SCE (somme des carrés expliquée) traduit la variation expliquée par le modèle.<br>\n",
    "SCR (somme des carrés résiduelle) traduit la variation inexpliquée par le modèle.\n",
    "\n",
    "Pour la régression linéaire, le pourcentage de variation expliquée est donné par le coefficient de détermination noté R2 :"
   ]
  },
  {
   "cell_type": "markdown",
   "metadata": {},
   "source": [
    "![Alt text](images/image-25.png)"
   ]
  },
  {
   "cell_type": "markdown",
   "metadata": {},
   "source": [
    "R2 est en fait le carré du coefficient de corrélation linéaire. On a R2=r2X,Y."
   ]
  },
  {
   "cell_type": "markdown",
   "metadata": {},
   "source": [
    "## Critiquons ce résultat"
   ]
  },
  {
   "cell_type": "markdown",
   "metadata": {},
   "source": [
    "En y regardant de plus près, on voit qu'il a 2 points qui \"sortent du lot\", on les appelle des outliers. En connaissant mes propres habitudes de consommation, je sais que je ne fais jamais les courses à plus de 15 jours d'intervalle. Ces deux points, pour lesquels attente = 15 jours, correspondent en fait à des retours de vacances (durant lesquelles je n'ai pas fait de courses). Comme je ne souhaite pas que ceux-ci interfèrent dans mon calcul, je les écarte.\n",
    "\n",
    "Une fois écartés, j'obtiens ces nouvelles estimations :\n",
    "- a^=3.03\n",
    "- b^=5.41"
   ]
  },
  {
   "cell_type": "code",
   "execution_count": 57,
   "metadata": {},
   "outputs": [
    {
     "name": "stdout",
     "output_type": "stream",
     "text": [
      "attente      3.030823\n",
      "intercept    5.411480\n",
      "dtype: float64\n"
     ]
    },
    {
     "data": {
      "image/png": "[encoded data removed]",
      "text/plain": [
       "<Figure size 640x480 with 1 Axes>"
      ]
     },
     "metadata": {},
     "output_type": "display_data"
    }
   ],
   "source": [
    "courses = courses.loc[courses['attente'] < 15, :]\n",
    "\n",
    "Y = courses['montant']\n",
    "X = courses[['attente']]\n",
    "X = X.copy() # On modifiera X, on en crée donc une copie\n",
    "X['intercept'] = 1.\n",
    "result = sm.OLS(Y, X).fit() # OLS = Ordinary Least Square (Moindres Carrés Ordinaire)\n",
    "a_new,b_new = result.params['attente'],result.params['intercept']\n",
    "\n",
    "print(result.params)\n",
    "\n",
    "plt.plot(courses.attente,courses.montant, \"o\")\n",
    "plt.plot(np.arange(15),[a_new*x+b_new for x in np.arange(15)])\n",
    "plt.plot(np.arange(15),[a*x+b for x in np.arange(15)])\n",
    "plt.xlabel(\"attente\")\n",
    "plt.ylabel(\"montant\")\n",
    "plt.show()"
   ]
  },
  {
   "cell_type": "markdown",
   "metadata": {},
   "source": [
    "Ce résultat est bien différent du précédent. Avec seulement 2 individus écartés, les résultats changent beaucoup. On dit donc que le traitement statistique que nous venons d'appliquer (la régression linéaire avec estimation par la méthode des moindres carrés) est peu robuste aux outliers.\n",
    "\n",
    " C'est d'ailleurs le cas également du coefficient de corrélation linéaire rX,Y: il est peu robuste. En fait, ce n'est pas un hasard s'il l'est lui aussi. En effet, le coefficient de corrélation linéaire et la régression linéaire sont très liés ."
   ]
  },
  {
   "cell_type": "markdown",
   "metadata": {},
   "source": [
    "# P4C5 - Analysez une variable quantitative et une qualitative par ANOVA"
   ]
  },
  {
   "cell_type": "markdown",
   "metadata": {},
   "source": [
    "Le montant d'une opération est-il différent d'une catégorie de dépense à l'autre ? (montant et categ)"
   ]
  },
  {
   "cell_type": "markdown",
   "metadata": {},
   "source": [
    "## Graphiques"
   ]
  },
  {
   "cell_type": "code",
   "execution_count": 60,
   "metadata": {},
   "outputs": [
    {
     "data": {
      "text/html": [
       "<div>\n",
       "<style scoped>\n",
       "    .dataframe tbody tr th:only-of-type {\n",
       "        vertical-align: middle;\n",
       "    }\n",
       "\n",
       "    .dataframe tbody tr th {\n",
       "        vertical-align: top;\n",
       "    }\n",
       "\n",
       "    .dataframe thead th {\n",
       "        text-align: right;\n",
       "    }\n",
       "</style>\n",
       "<table border=\"1\" class=\"dataframe\">\n",
       "  <thead>\n",
       "    <tr style=\"text-align: right;\">\n",
       "      <th></th>\n",
       "      <th>date_operation</th>\n",
       "      <th>libelle</th>\n",
       "      <th>montant</th>\n",
       "      <th>solde_avt_ope</th>\n",
       "      <th>categ</th>\n",
       "      <th>quart_mois</th>\n",
       "    </tr>\n",
       "  </thead>\n",
       "  <tbody>\n",
       "    <tr>\n",
       "      <th>0</th>\n",
       "      <td>2023-03-31</td>\n",
       "      <td>DON XX XX XX XX XX XX XX</td>\n",
       "      <td>1.44</td>\n",
       "      <td>1515.25</td>\n",
       "      <td>AUTRE</td>\n",
       "      <td>4</td>\n",
       "    </tr>\n",
       "    <tr>\n",
       "      <th>1</th>\n",
       "      <td>2023-04-03</td>\n",
       "      <td>CARTE XX XX RAPT XX</td>\n",
       "      <td>24.00</td>\n",
       "      <td>1513.81</td>\n",
       "      <td>TRANSPORT</td>\n",
       "      <td>1</td>\n",
       "    </tr>\n",
       "    <tr>\n",
       "      <th>2</th>\n",
       "      <td>2023-04-03</td>\n",
       "      <td>CARTE XX XX RAPT XX</td>\n",
       "      <td>73.00</td>\n",
       "      <td>1489.81</td>\n",
       "      <td>TRANSPORT</td>\n",
       "      <td>1</td>\n",
       "    </tr>\n",
       "    <tr>\n",
       "      <th>5</th>\n",
       "      <td>2023-04-03</td>\n",
       "      <td>CARTE XX XX XX XX</td>\n",
       "      <td>14.39</td>\n",
       "      <td>2097.61</td>\n",
       "      <td>AUTRE</td>\n",
       "      <td>1</td>\n",
       "    </tr>\n",
       "    <tr>\n",
       "      <th>6</th>\n",
       "      <td>2023-04-05</td>\n",
       "      <td>CARTE XX XX XX XX XX</td>\n",
       "      <td>15.20</td>\n",
       "      <td>2083.22</td>\n",
       "      <td>AUTRE</td>\n",
       "      <td>1</td>\n",
       "    </tr>\n",
       "    <tr>\n",
       "      <th>...</th>\n",
       "      <td>...</td>\n",
       "      <td>...</td>\n",
       "      <td>...</td>\n",
       "      <td>...</td>\n",
       "      <td>...</td>\n",
       "      <td>...</td>\n",
       "    </tr>\n",
       "    <tr>\n",
       "      <th>303</th>\n",
       "      <td>2023-10-05</td>\n",
       "      <td>CARTE XX XX XX XX XX XX</td>\n",
       "      <td>10.64</td>\n",
       "      <td>2440.94</td>\n",
       "      <td>AUTRE</td>\n",
       "      <td>1</td>\n",
       "    </tr>\n",
       "    <tr>\n",
       "      <th>304</th>\n",
       "      <td>2023-10-05</td>\n",
       "      <td>CARTE XX XX XX XX</td>\n",
       "      <td>4.80</td>\n",
       "      <td>2430.30</td>\n",
       "      <td>AUTRE</td>\n",
       "      <td>1</td>\n",
       "    </tr>\n",
       "    <tr>\n",
       "      <th>305</th>\n",
       "      <td>2023-10-06</td>\n",
       "      <td>FORFAIT COMPTE SUPERBANK XX XX XX XX</td>\n",
       "      <td>1.92</td>\n",
       "      <td>2425.50</td>\n",
       "      <td>COTISATION BANCAIRE</td>\n",
       "      <td>1</td>\n",
       "    </tr>\n",
       "    <tr>\n",
       "      <th>306</th>\n",
       "      <td>2023-10-06</td>\n",
       "      <td>CARTE XX XX CHEZ LUC XX</td>\n",
       "      <td>10.00</td>\n",
       "      <td>2423.58</td>\n",
       "      <td>RESTAURANT</td>\n",
       "      <td>1</td>\n",
       "    </tr>\n",
       "    <tr>\n",
       "      <th>307</th>\n",
       "      <td>2023-10-06</td>\n",
       "      <td>PRELEVEMENT XX TELEPHONE XX XX</td>\n",
       "      <td>13.58</td>\n",
       "      <td>2413.58</td>\n",
       "      <td>FACTURE TELEPHONE</td>\n",
       "      <td>1</td>\n",
       "    </tr>\n",
       "  </tbody>\n",
       "</table>\n",
       "<p>285 rows × 6 columns</p>\n",
       "</div>"
      ],
      "text/plain": [
       "    date_operation                               libelle  montant  \\\n",
       "0       2023-03-31              DON XX XX XX XX XX XX XX     1.44   \n",
       "1       2023-04-03                   CARTE XX XX RAPT XX    24.00   \n",
       "2       2023-04-03                   CARTE XX XX RAPT XX    73.00   \n",
       "5       2023-04-03                     CARTE XX XX XX XX    14.39   \n",
       "6       2023-04-05                  CARTE XX XX XX XX XX    15.20   \n",
       "..             ...                                   ...      ...   \n",
       "303     2023-10-05               CARTE XX XX XX XX XX XX    10.64   \n",
       "304     2023-10-05                     CARTE XX XX XX XX     4.80   \n",
       "305     2023-10-06  FORFAIT COMPTE SUPERBANK XX XX XX XX     1.92   \n",
       "306     2023-10-06               CARTE XX XX CHEZ LUC XX    10.00   \n",
       "307     2023-10-06        PRELEVEMENT XX TELEPHONE XX XX    13.58   \n",
       "\n",
       "     solde_avt_ope                categ  quart_mois  \n",
       "0          1515.25                AUTRE           4  \n",
       "1          1513.81            TRANSPORT           1  \n",
       "2          1489.81            TRANSPORT           1  \n",
       "5          2097.61                AUTRE           1  \n",
       "6          2083.22                AUTRE           1  \n",
       "..             ...                  ...         ...  \n",
       "303        2440.94                AUTRE           1  \n",
       "304        2430.30                AUTRE           1  \n",
       "305        2425.50  COTISATION BANCAIRE           1  \n",
       "306        2423.58           RESTAURANT           1  \n",
       "307        2413.58    FACTURE TELEPHONE           1  \n",
       "\n",
       "[285 rows x 6 columns]"
      ]
     },
     "execution_count": 60,
     "metadata": {},
     "output_type": "execute_result"
    }
   ],
   "source": [
    "X = \"categ\" # qualitative\n",
    "Y = \"montant\" # quantitative\n",
    "\n",
    "# On ne garde que les dépenses\n",
    "sous_echantillon = data.loc[data[\"montant\"] < 0, :].copy()\n",
    "# On remet les dépenses en positif\n",
    "sous_echantillon[\"montant\"] = -sous_echantillon[\"montant\"]\n",
    "# On n'étudie pas les loyers car trop gros:\n",
    "sous_echantillon = sous_echantillon.loc[sous_echantillon[\"categ\"] != \"LOYER\", :]\n",
    "sous_echantillon"
   ]
  },
  {
   "cell_type": "code",
   "execution_count": 59,
   "metadata": {},
   "outputs": [
    {
     "data": {
      "image/png": "[encoded data removed]",
      "text/plain": [
       "<Figure size 640x480 with 1 Axes>"
      ]
     },
     "metadata": {},
     "output_type": "display_data"
    }
   ],
   "source": [
    "modalites = sous_echantillon[X].unique()\n",
    "groupes = []\n",
    "for m in modalites:\n",
    "    groupes.append(sous_echantillon[sous_echantillon[X]==m][Y])\n",
    "\n",
    "# Propriétés graphiques (pas très importantes)    \n",
    "medianprops = {'color':\"black\"}\n",
    "meanprops = {'marker':'o', 'markeredgecolor':'black',\n",
    "            'markerfacecolor':'firebrick'}\n",
    "    \n",
    "plt.boxplot(groupes, labels=modalites, showfliers=False, medianprops=medianprops, \n",
    "            vert=False, patch_artist=True, showmeans=True, meanprops=meanprops)\n",
    "plt.show()"
   ]
  },
  {
   "cell_type": "markdown",
   "metadata": {},
   "source": [
    "Les points rouges au milieu de chaque boîte à moustaches représentent la moyenne des valeurs."
   ]
  },
  {
   "cell_type": "markdown",
   "metadata": {},
   "source": [
    "On voit ici que les montants sont très différents d'une catégorie à l'autre.<br>\n",
    "Par exemple, les montants des dépenses de transport sont plus élevés et plus dispersés que ceux des factures téléphoniques."
   ]
  },
  {
   "cell_type": "markdown",
   "metadata": {},
   "source": [
    "## Modélisation"
   ]
  },
  {
   "cell_type": "markdown",
   "metadata": {},
   "source": [
    "On pourrait reprendre la formule de la régression linéaire, sauf qu'elle implique de multiplier X par a. Or cette fois-ci, X est qualitative, comme notre variable categ. Multiplier une variable qualitative par un nombre n'a aucun sens (ex. : \"TRANSPORT\" * 3 n'a aucun sens !).\n",
    "\n",
    "Nous allons donc faire la supposition que vos opérations bancaires ont un montant de référence en commun appelé μ.<br>\n",
    "Ensuite, on considère que le montant de l'opération s'ajuste en fonction de la catégorie i de dépense (loyer, transport, courses, etc.) :\n",
    "- Si une catégorie a des montants qui sont en général inférieurs à μ, alors cet ajustement αi sera négatif;\n",
    "- Dans le cas contraire, il sera positif.\n",
    "\n",
    "On ajoute la contrainte que la somme de tous les αi soit égale à 0.\n",
    "\n",
    "Comme pour le modèle de la régression linéaire, on aura ici aussi un terme d'erreur ϵ :"
   ]
  },
  {
   "cell_type": "markdown",
   "metadata": {},
   "source": [
    "![Alt text](images/image-26.png)"
   ]
  },
  {
   "cell_type": "markdown",
   "metadata": {},
   "source": [
    "Les calculs mathématiques qui nous disent quels sont les αi et μ qui minimisent l'erreur ϵ donnent des résultats très intuitifs :\n",
    "- Le montant de référence μ est estimé par la moyenne de tous les montants. On appelle cette estimation μ^\n",
    "- Pour une catégorie i, αi est estimé en calculant l'écart entre μ^ et la moyenne yi¯¯¯¯ des montants de la catégorie i, c'est-à-dire : αi^=yi¯¯¯¯−μ^\n",
    "\n",
    "Ce modèle est très utilisé en statistiques inférentielles, et est appelé analyse de la variance, en anglais ANalysis Of VAriance (ANOVA)."
   ]
  },
  {
   "cell_type": "markdown",
   "metadata": {},
   "source": [
    "## Évaluez le modéle"
   ]
  },
  {
   "cell_type": "markdown",
   "metadata": {},
   "source": [
    "la formule utilisée est exactement la même que celle du chapitre précédent : SCT=SCE+SCR.<br>\n",
    "Mais ici, comme la variable X est qualitative et les expressions de SCT, SCE et SCR introduisant les effectifs ni de chacune des classes i, qui sont au nombre de k, on peut donner à SCT, SCE et SCR les expressions équivalentes suivantes"
   ]
  },
  {
   "cell_type": "markdown",
   "metadata": {},
   "source": [
    "![Alt text](images/image-27.png)"
   ]
  },
  {
   "cell_type": "markdown",
   "metadata": {},
   "source": [
    "![Alt text](images/image-28.png)"
   ]
  },
  {
   "cell_type": "markdown",
   "metadata": {},
   "source": [
    "![Alt text](images/image-29.png)"
   ]
  },
  {
   "cell_type": "markdown",
   "metadata": {},
   "source": [
    "SCT est ici appelé variation totale (les anglophones utilisent plutôt Total Sum of Squares).<br>\n",
    "SCE est ici appelé variation interclasse (Sum of Squares of the Model).<br>\n",
    "SCR est ici appelé variation intraclasse (Sum of Squares of the Error) car s2i est la variance au sein de la classe i.<br>\n",
    "(les classes sont les modalités de X)"
   ]
  },
  {
   "cell_type": "markdown",
   "metadata": {},
   "source": [
    "De la même manière qu'on avait au chapitre précédent R2=SCE/SCT, l'équivalent ici s'appelle le rapport de corrélation, compris entre 0 et 1, donné par :"
   ]
  },
  {
   "cell_type": "markdown",
   "metadata": {},
   "source": [
    "![Alt text](images/image-30.png)"
   ]
  },
  {
   "cell_type": "markdown",
   "metadata": {},
   "source": [
    "Si  η2Y/X=0, cela signifie que les moyennes par classes sont toutes égales. Il n’y a donc pas à priori de relation entre les variables Y et X.<br>\n",
    "Au contraire, si η2Y/X=1, cela signifie que les moyennes par classes sont très différentes, chacune des classes étant constituée de valeurs identiques : il existe donc à priori une relation entre les variables Y et X."
   ]
  },
  {
   "cell_type": "code",
   "execution_count": 61,
   "metadata": {},
   "outputs": [
    {
     "data": {
      "text/plain": [
       "0.0275228003018415"
      ]
     },
     "execution_count": 61,
     "metadata": {},
     "output_type": "execute_result"
    }
   ],
   "source": [
    "X = \"categ\" # qualitative\n",
    "Y = \"montant\" # quantitative\n",
    "\n",
    "def eta_squared(x,y):\n",
    "    moyenne_y = y.mean()\n",
    "    classes = []\n",
    "    for classe in x.unique():\n",
    "        yi_classe = y[x==classe]\n",
    "        classes.append({'ni': len(yi_classe),\n",
    "                        'moyenne_classe': yi_classe.mean()})\n",
    "    SCT = sum([(yj-moyenne_y)**2 for yj in y])\n",
    "    SCE = sum([c['ni']*(c['moyenne_classe']-moyenne_y)**2 for c in classes])\n",
    "    return SCE/SCT\n",
    "    \n",
    "eta_squared(sous_echantillon[X],sous_echantillon[Y])"
   ]
  },
  {
   "cell_type": "markdown",
   "metadata": {},
   "source": [
    "On obtient un résultat proche de 0.4, ce qui laisse penser qu'il y a effectivement une corrélation entre le montant des dépenses et leur catégorie."
   ]
  },
  {
   "cell_type": "markdown",
   "metadata": {},
   "source": [
    "## Corrélation en quart_mois et montant"
   ]
  },
  {
   "cell_type": "markdown",
   "metadata": {},
   "source": [
    "Les dépenses que vous faites en début de mois sont-elles plus grosses qu'en fin de mois ? (montant et quart_mois)."
   ]
  },
  {
   "cell_type": "code",
   "execution_count": 62,
   "metadata": {},
   "outputs": [
    {
     "data": {
      "image/png": "[encoded data removed]",
      "text/plain": [
       "<Figure size 640x480 with 1 Axes>"
      ]
     },
     "metadata": {},
     "output_type": "display_data"
    },
    {
     "data": {
      "text/plain": [
       "0.011398038009310869"
      ]
     },
     "execution_count": 62,
     "metadata": {},
     "output_type": "execute_result"
    }
   ],
   "source": [
    "X = \"quart_mois\" # qualitative\n",
    "Y = \"montant\" # quantitative\n",
    "\n",
    "modalites = sous_echantillon[X].unique()\n",
    "groupes = []\n",
    "for m in modalites:\n",
    "    groupes.append(sous_echantillon[sous_echantillon[X]==m][Y])\n",
    "\n",
    "# Propriétés graphiques (pas très importantes)    \n",
    "medianprops = {'color':\"black\"}\n",
    "meanprops = {'marker':'o', 'markeredgecolor':'black',\n",
    "            'markerfacecolor':'firebrick'}\n",
    "    \n",
    "plt.boxplot(groupes, labels=modalites, showfliers=False, medianprops=medianprops, \n",
    "            vert=False, patch_artist=True, showmeans=True, meanprops=meanprops)\n",
    "plt.show()\n",
    "\n",
    "eta_squared(sous_echantillon[X],sous_echantillon[Y])"
   ]
  },
  {
   "cell_type": "markdown",
   "metadata": {},
   "source": [
    "# P4C6 - Analysez deux variables qualitatives avec le Chi-2"
   ]
  },
  {
   "cell_type": "markdown",
   "metadata": {},
   "source": [
    "Y a-t-il des catégories d'opérations qui arrivent toujours au même moment du mois, comme votre loyer, par exemple ? (categ et quart_mois)."
   ]
  },
  {
   "cell_type": "markdown",
   "metadata": {},
   "source": [
    "## Représentation"
   ]
  },
  {
   "cell_type": "markdown",
   "metadata": {},
   "source": [
    "Tableau de contingence :"
   ]
  },
  {
   "cell_type": "code",
   "execution_count": 63,
   "metadata": {},
   "outputs": [
    {
     "data": {
      "text/html": [
       "<div>\n",
       "<style scoped>\n",
       "    .dataframe tbody tr th:only-of-type {\n",
       "        vertical-align: middle;\n",
       "    }\n",
       "\n",
       "    .dataframe tbody tr th {\n",
       "        vertical-align: top;\n",
       "    }\n",
       "\n",
       "    .dataframe thead th {\n",
       "        text-align: right;\n",
       "    }\n",
       "</style>\n",
       "<table border=\"1\" class=\"dataframe\">\n",
       "  <thead>\n",
       "    <tr style=\"text-align: right;\">\n",
       "      <th>categ</th>\n",
       "      <th>AUTRE</th>\n",
       "      <th>COTISATION BANCAIRE</th>\n",
       "      <th>COURSES</th>\n",
       "      <th>FACTURE TELEPHONE</th>\n",
       "      <th>LOYER</th>\n",
       "      <th>RESTAURANT</th>\n",
       "      <th>TRANSPORT</th>\n",
       "      <th>Total</th>\n",
       "    </tr>\n",
       "    <tr>\n",
       "      <th>quart_mois</th>\n",
       "      <th></th>\n",
       "      <th></th>\n",
       "      <th></th>\n",
       "      <th></th>\n",
       "      <th></th>\n",
       "      <th></th>\n",
       "      <th></th>\n",
       "      <th></th>\n",
       "    </tr>\n",
       "  </thead>\n",
       "  <tbody>\n",
       "    <tr>\n",
       "      <th>1</th>\n",
       "      <td>55.0</td>\n",
       "      <td>7.0</td>\n",
       "      <td>6.0</td>\n",
       "      <td>6.0</td>\n",
       "      <td>NaN</td>\n",
       "      <td>3.0</td>\n",
       "      <td>9.0</td>\n",
       "      <td>86</td>\n",
       "    </tr>\n",
       "    <tr>\n",
       "      <th>2</th>\n",
       "      <td>45.0</td>\n",
       "      <td>NaN</td>\n",
       "      <td>11.0</td>\n",
       "      <td>1.0</td>\n",
       "      <td>6.0</td>\n",
       "      <td>7.0</td>\n",
       "      <td>6.0</td>\n",
       "      <td>76</td>\n",
       "    </tr>\n",
       "    <tr>\n",
       "      <th>3</th>\n",
       "      <td>60.0</td>\n",
       "      <td>NaN</td>\n",
       "      <td>7.0</td>\n",
       "      <td>NaN</td>\n",
       "      <td>NaN</td>\n",
       "      <td>4.0</td>\n",
       "      <td>4.0</td>\n",
       "      <td>75</td>\n",
       "    </tr>\n",
       "    <tr>\n",
       "      <th>4</th>\n",
       "      <td>52.0</td>\n",
       "      <td>NaN</td>\n",
       "      <td>15.0</td>\n",
       "      <td>NaN</td>\n",
       "      <td>NaN</td>\n",
       "      <td>2.0</td>\n",
       "      <td>2.0</td>\n",
       "      <td>71</td>\n",
       "    </tr>\n",
       "    <tr>\n",
       "      <th>Total</th>\n",
       "      <td>212.0</td>\n",
       "      <td>7.0</td>\n",
       "      <td>39.0</td>\n",
       "      <td>7.0</td>\n",
       "      <td>6.0</td>\n",
       "      <td>16.0</td>\n",
       "      <td>21.0</td>\n",
       "      <td>308</td>\n",
       "    </tr>\n",
       "  </tbody>\n",
       "</table>\n",
       "</div>"
      ],
      "text/plain": [
       "categ       AUTRE  COTISATION BANCAIRE  COURSES  FACTURE TELEPHONE  LOYER  \\\n",
       "quart_mois                                                                  \n",
       "1            55.0                  7.0      6.0                6.0    NaN   \n",
       "2            45.0                  NaN     11.0                1.0    6.0   \n",
       "3            60.0                  NaN      7.0                NaN    NaN   \n",
       "4            52.0                  NaN     15.0                NaN    NaN   \n",
       "Total       212.0                  7.0     39.0                7.0    6.0   \n",
       "\n",
       "categ       RESTAURANT  TRANSPORT  Total  \n",
       "quart_mois                                \n",
       "1                  3.0        9.0     86  \n",
       "2                  7.0        6.0     76  \n",
       "3                  4.0        4.0     75  \n",
       "4                  2.0        2.0     71  \n",
       "Total             16.0       21.0    308  "
      ]
     },
     "execution_count": 63,
     "metadata": {},
     "output_type": "execute_result"
    }
   ],
   "source": [
    "X = \"quart_mois\"\n",
    "Y = \"categ\"\n",
    "\n",
    "cont = data[[X,Y]].pivot_table(index=X,columns=Y,aggfunc=len,margins=True,margins_name=\"Total\")\n",
    "cont"
   ]
  },
  {
   "cell_type": "markdown",
   "metadata": {},
   "source": [
    "## S'appuyer sur des statistiques"
   ]
  },
  {
   "cell_type": "markdown",
   "metadata": {},
   "source": [
    "Si deux événements I et J sont indépendants, alors on s'attend à ce que le nombre d'individus qui satisfont à la fois I et J (appelons ce nombre nij) soit égal à fi×nj (c'est le calcul que vous aviez fait en entrant dans le bar : 30%*10=3). Au contraire, plus nij sera différent de fi×nj, plus on aura de raisons de penser que I et J ne sont pas indépendants."
   ]
  },
  {
   "cell_type": "markdown",
   "metadata": {},
   "source": [
    "Étudier une corrélation entre deux variables qualitatives revient donc à comparer les  nij avec les fi×nj. Les nij, ce sont les nombres qui sont dans le tableau de contingence (en dehors des 2 ligne et colonne TOTAL). On pourrait donc créer un autre tableau qui aurait la même forme que le tableau de contingence, mais qui contiendrait plutôt les fi×nj. Voici donc à gauche le tableau de contingence que nous avions, et à droite le tableau des fi×nj :"
   ]
  },
  {
   "cell_type": "markdown",
   "metadata": {},
   "source": [
    "![Alt text](images/image-31.png)"
   ]
  },
  {
   "cell_type": "markdown",
   "metadata": {},
   "source": [
    "Le tableau de droite est ce à quoi on s'attend en cas d'indépendance des 2 variables.<br>\n",
    "Il faut donc une statistique qui puisse comparer les valeurs de ces 2 tableaux deux à deux, et qui permet aussi de trouver les cases pour lesquelles les valeurs sont très différentes.<br>\n",
    "Ces cases seront des valeurs dignes d'intérêt, et qui seront source de non-indépendance des 2 variables.\n",
    "\n",
    "La formule est la suivante :"
   ]
  },
  {
   "cell_type": "markdown",
   "metadata": {},
   "source": [
    "![Alt text](images/image-32.png)"
   ]
  },
  {
   "cell_type": "markdown",
   "metadata": {},
   "source": [
    "Cette mesure est calculable pour chacune des cases du tableau de contingence.\n",
    "\n",
    "Il peut être intéressant de colorer ce dernier en fonction de cette mesure :\n",
    "- foncé quand la mesure est grande;\n",
    "- clair quand elle est proche de 0.\n",
    "\n",
    "Ainsi, on détecte facilement les cases qui sont source de non-indépendance : cette représentation s'appelle une carte de chaleur, ou heatmap, en anglais."
   ]
  },
  {
   "cell_type": "code",
   "execution_count": 64,
   "metadata": {},
   "outputs": [
    {
     "data": {
      "image/png": "[encoded data removed]",
      "text/plain": [
       "<Figure size 640x480 with 2 Axes>"
      ]
     },
     "metadata": {},
     "output_type": "display_data"
    }
   ],
   "source": [
    "tx = cont.loc[:,[\"Total\"]]\n",
    "ty = cont.loc[[\"Total\"],:]\n",
    "n = len(data)\n",
    "indep = tx.dot(ty) / n\n",
    "\n",
    "c = cont.fillna(0) # On remplace les valeurs nulles par 0\n",
    "measure = (c-indep)**2/indep\n",
    "xi_n = measure.sum().sum()\n",
    "table = measure/xi_n\n",
    "sns.heatmap(table.iloc[:-1,:-1],annot=c.iloc[:-1,:-1])\n",
    "plt.show()"
   ]
  },
  {
   "cell_type": "markdown",
   "metadata": {},
   "source": [
    "On obtient ainsi pour chaque case une valeur comprise entre 0 et 1.\n",
    "\n",
    "On peut considérer cette valeur comme une contribution à la non-indépendance. Elle est optionnellement exprimable en pourcentage si on la multiplie par 100. Plus cette contribution sera proche de 100 %, plus la case en question sera source de non-indépendance. La somme de toutes les contributions vaut 100 %."
   ]
  },
  {
   "cell_type": "markdown",
   "metadata": {},
   "source": [
    "En regardant ces cases foncées, on apprend que les cotisations bancaires et factures téléphoniques sont souvent payées en tout début de mois, que les loyers sont souvent payés en 2e quartier de mois, etc."
   ]
  },
  {
   "cell_type": "markdown",
   "metadata": {},
   "source": [
    "Enfin, si on somme toutes ces mesures ξij pour chaque case du tableau (de la colonne j=1 à la colonne j=l, puis de la ligne i=1 à la ligne i=k), on obtient la statistique ξn :"
   ]
  },
  {
   "cell_type": "markdown",
   "metadata": {},
   "source": [
    "![Alt text](images/image-33.png)"
   ]
  },
  {
   "cell_type": "markdown",
   "metadata": {},
   "source": [
    "Normalement, on applique à cette mesure un seuil au-delà duquel on dira que les 2 variables sont corrélées. Retenons juste ici que plus ξn est grand, moins l'hypothèse d'indépendance est valide.\n",
    "\n",
    "Le test avec le seuil s'appelle le test du χ2 d'indépendance, parfois écrit chi-2 ou khi-2.\n",
    "\n",
    "Nous avons vu les mesures r2, η2 et ξn. Ce sont tous des nombres qui nous donnent une indication sur la corrélation (ou au contraire sur l'indépendance) de deux variables.\n",
    "\n",
    "Mais quand vous avez un r2 ou un η2 égal à 0.4 (ce qui n'est proche ni de 0 ni de 1), peut-être avez-vous ressenti la frustration de dire \"Bon oui certes, c'est un peu corrélé, mais pas trop non plus...\". N'écrivez jamais cette phrase dans un rapport d'analyse de données ! Pour remédier à cela, il existe des tests statistiques.\n",
    "\n",
    "En fait, il existe des seuils que l'on peut calculer. En dessous du seuil, on dira \"Les variables ne sont pas corrélées\", et au-dessus, on dira l'inverse.\n",
    "\n",
    "C'est bien plus pratique ! Mais pour être tout à fait précis, il faut donner une précision supplémentaire, qui est une sorte de \"niveau de certitude\", que l'on appelle seuil de significativité. On utilise pour cela la p-value, exprimée en pourcentage.\n",
    "\n",
    "C'est grâce à elle que l'on peut dire si un test statistique est significatif ou pas."
   ]
  }
 ],
 "metadata": {
  "kernelspec": {
   "display_name": "Python 3",
   "language": "python",
   "name": "python3"
  },
  "language_info": {
   "codemirror_mode": {
    "name": "ipython",
    "version": 3
   },
   "file_extension": ".py",
   "mimetype": "text/x-python",
   "name": "python",
   "nbconvert_exporter": "python",
   "pygments_lexer": "ipython3",
   "version": "3.11.5"
  },
  "orig_nbformat": 4
 },
 "nbformat": 4,
 "nbformat_minor": 2
}
